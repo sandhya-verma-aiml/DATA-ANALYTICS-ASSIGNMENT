{
 "cells": [
  {
   "cell_type": "markdown",
   "metadata": {
    "id": "crWNyGVv_lcz"
   },
   "source": [
    "# PYTHON OOPS QUESTIONS"
   ]
  },
  {
   "cell_type": "markdown",
   "metadata": {
    "id": "rwDU1JcS_06K"
   },
   "source": [
    "## OOPS ASSIGNMENT\n",
    "-----------------------------------------------------------------\n",
    "Q1. WHAT IS OBJECT-ORIENTED PROGRAMMING (OOP)?\n",
    "-  OOP IS A PROGRAMMING PARADIGM, OR STYLE OF PROGRAMMING, THAT ORGANIZES SOFTWARE DESIGN AROUND DATA OR OBJECTS, RATHER THAN FUNCTIONS AND LOGIC.\n",
    "- __BENEFITS OF OOPS:-__\n",
    "    - FLEXIBILITY\n",
    "    - MODULARITY\n",
    "    - REUSABILITY\n",
    "    - MAINTAINABILITY\n",
    "- __FOR EXAMPLE:-__ YOU'RE BUILDING A LIBRARY MANAGEMENT SYSTEM, SO YOU MIGHT MODEL A BOOK, A MEMBER, AND A LIBRARIAN AS OBJECTS. THE OBJECTS WILL EACH HAVE PROPERTIES AND METHODS FOR EXAMPLE, A BOOK MIGHT HAVE PROPERTIES SUCH AS A TITLE, AUTHOR, AND PUBLISHED DATE, WHILE A MEMBER HAS METHODS SUCH AS THE ABILITY TO BORROW AND RETURN BOOKS.\n",
    "-----------------------------------------------------------------\n",
    "Q2. WHAT IS A CLASS IN OOP?\n",
    "-  THE CLASS IS A USER-DEFINED DATA STRUCTURE THAT COMBINES THE METHODS AND DATA MEMBERS INTO A SINGLE ENTITY.\n",
    "- CLASSES ARE SORT OF LIKE BLUEPRINTS OR TEMPLATES FOR CODE IN THE PRODUCTION OF OBJECTS.\n",
    "- YOU CAN MAKE AS MANY OBJECTS AS YOU DESIRE USING A CLASS.\n",
    "\n",
    "      #SYNTAX OF CLASS\n",
    "\n",
    "          CLASS CLASS_NAME:\n",
    "            \"\"\"DOC STRING\"\"\"\n",
    "            STATEMENT 1\n",
    "            STATEMENT 2\n",
    "            ..............\n",
    "-----------------------------------------------------------------\n",
    "Q3.  WHAT IS AN OBJECT IN OOP?\n",
    "-  OBJECTS ARE INSTANCES OF CLASSES.IT CONSISTS OF A SET OF METHODS AND ATTRIBUTES. ACTIONS ARE CARRIED OUT USING A CLASS'S OBJECT.\n",
    "- ANY OBJECT NEEDS TO HAVE UNIQUE IDENTIFICATION. AN ATTRIBUTE OF AN OBJECT REFLECTS BOTH THE PROPERTIES AND THE STATE OF THE OBJECT.\n",
    "-----------------------------------------------------------------\n",
    "Q4. WHAT IS THE DIFFERENCE BETWEEN ABSTRACTION AND ENCAPSULATION?\n",
    "-  ABSTRACTION AND ENCAPSULATION ARE TWO FUNDAMENTAL CONCEPTS IN OOPS THAT WORK TOGETHER TO CREATE WELL-STRUCTURED AND MAINTAINABLE CODE. WHILE THEY ARE OFTEN USED INTERCHANGEABLY, THEY HAVE DISTINCT MEANINGS.\n",
    "- __ABSTRACTION:__\n",
    "    - ABSTRACTION FOCUSES ON HIDING IMPLEMENTATION DETAILS AIMS AT DELIVERING ONLY THE MINIMUM AMOUNT OF FUNCTIONALITY TO EASE THE USER'S INTERACTION AND AVOID COMPLICATIONS.\n",
    "    - THIS IS ACHIEVED USING ABSTRACT CLASSES, INTERFACES, AND ABSTRACT METHODS THAT DESCRIBE WHAT A SYSTEM CAN DO BUT NOT HOW IT DOES IT. IT'S JUST SEEING A CAR AS ONE PIECE WITHOUT HAVING TO UNDERSTAND WHAT'S INSIDE ITS PARTS.\n",
    "- __ENCAPUSATION:__\n",
    "    - ENCAPSULATION FOCUSES ON BUNDLING DATA AND METHODS WITHIN A SINGLE OBJECT ENSURES THAT THE DATA IS NOT ACCESSIBLE OR MODIFIABLE WITHOUT PROPER AUTHORIZATION, THUS MAINTAINING ITS INTEGRITY AND PRIVACY.\n",
    "    - ACCESS MODIFIERS SUCH AS PUBLIC, PRIVATE, AND PROTECTED CONTROL THE VISIBILITY. IT IS SIMILAR TO A CAPSULE THAT KEEPS THE MEDICINE SAFE AND PROTECTS IT FROM THE ENVIRONMENT.\n",
    "-----------------------------------------------------------------\n",
    "Q5. WHAT ARE DUNDER METHODS IN PYTHON?\n",
    "-  DUNDER METHODS, ALSO KNOWN AS MAGIC METHODS OR SPECIAL METHODS, IN PYTHON ARE SPECIAL RESERVED METHODS THAT ARE SURROUNDED BY DOUBLE UNDERSCORES, LIKE THIS:- `__METHOD__`. THESE METHODS ALLOW YOU TO DEFINE HOW INSTANCES OF YOUR CLASSES BEHAVE WHEN THEY ARE USED WITH BUILT-IN PYTHON FUNCTIONS OR OPERATORS.\n",
    "\n",
    "- __SOME COMMON DUNDER METHODS ARE:__\n",
    "   -  `__INIT__`\n",
    "   - `__STR__`\n",
    "   - `__REPR__`\n",
    "   - `__ADD__`\n",
    "   - `__LEN__`\n",
    "\n",
    "          #YOU CAN GET ALL DUNDER METHODS ASSOCIATED WITH STRINGS\n",
    "          DIR(STR)\n",
    "\n",
    "          #YOU CAN GET ALL DUNDER METHODS ASSOCIATED WITH INTEGERS\n",
    "          DIR(INT)\n",
    "-----------------------------------------------------------------\n",
    "Q6. EXPLAIN THE CONCEPT OF INHERITANCE IN OOP.\n",
    "- INHERITANCE: INHERITANCE PLAYS A SIGNIFICANT ROLE IN AN OBJECT-ORIENTED PROGRAMMING LANGUAGE.\n",
    "- INHERITANCE IN PYTHON REFERS TO THE PROCESS OF A CHILD CLASS RECEIVING THE PARENT CLASS'S PROPERTIES.\n",
    "- THE REUSE OF CODE IS INHERITANCE'S MAIN GOAL.\n",
    "- INSTEAD OF STARTING FROM SCRATCH WHEN DEVELOPING A NEW CLASS, WE CAN USE THE EXISTING CLASS INSTEAD OF RE-CREATING IT FROM SCRATCH.\n",
    "\n",
    "        #SYNATX OF INHERITANCE\n",
    "\n",
    "          CLASS BASECLASS:\n",
    "            #BODY OF BASECLASS\n",
    "          CLASS DERIVEDCLASS(BASECLASS):\n",
    "            #BODY OF DERIVEDCLASS\n",
    "-----------------------------------------------------------------\n",
    "Q7.  WHAT IS POLYMORPHISM IN OOP?\n",
    "-  IN OOP, POLYMORPHISM REFERS TO AN OBJECT'S CAPACITY TO ASSUME SEVERAL FORMS.\n",
    "SIMPLY SAID, POLYMORPHISM ENABLES US TO CARRY OUT A SINGLE ACTIVITY IN A VARIETY OF WAYS.\n",
    "- FROM THE GREEK WORDS POLY (MANY) AND MORPHISM (FORMS), WE GET POLYMORPHISM. POLYMORPHISM IS THE CAPACITY TO ASSUME SEVERAL SHAPES.\n",
    "- IN PYTHON, POLYMORPHISM IS ACHIEVED THROUGH METHOD OVERLOADING AND METHOD OVERRIDING.\n",
    "    - __METHOD OVERLOADING__ IS THE PRACTICE OF INVOKING THE SAME METHOD MORE THAN ONCE WITH DIFFERENT PARAMETERS.\n",
    "    - __METHOD OVERRIDING__ IS THE PROCESS OF PROVIDING A DIFFERENT IMPLEMENTATION FOR A METHOD THAT IS ALREADY DEFINED IN THE SUPERCLASS WITHIN A SUBCLASS.\n",
    "-----------------------------------------------------------------\n",
    "Q8. HOW IS ENCAPSULATION ACHIEVED IN PYTHON?\n",
    "-  ENCAPSULATION IS A PYTHON TECHNIQUE FOR COMBINING DATA AND FUNCTIONS INTO A\n",
    "SINGLE OBJECT. A CLASS, FOR INSTANCE, CONTAINS ALL THE DATA I.E. METHODS AND VARIABLES\n",
    "- A CLASS'S DATA MEMBERS AND METHODS CAN BE MADE PRIVATE OR PROTECTED IN\n",
    "ORDER TO ACHIEVE ENCAPSULATION. DIRECT ACCESS MODIFIERS LIKE PUBLIC, PRIVATE AND PROTECTED DON'T EXIST IN PYTHON. THOUGH SINGLE AND DOUBLE UNDERSCORES CAN BE USED TO ACCOMPLISH THIS.\n",
    "\n",
    "- THE THREE DIFFERENT ACCESS MODIFIER TYPES THAT PYTHON OFFERS ARE:-\n",
    "    - __PUBLIC MEMBER:__ FROM OUTSIDE OF CLASS, ANYWHERE ACCESSIBLE.\n",
    "    - __PRIVATE MEMBER:__ WITHIN THE CLASS, ACCESSIBLE.\n",
    "    - __PROTECTED MEMBER:__ WITHIN THE CLASS AND ITS SUBCLASSES, ACCESSIBLE.\n",
    "-----------------------------------------------------------------\n",
    "Q9. WHAT IS A CONSTRUCTOR IN PYTHON?\n",
    "-  A CONSTRUCTOR IS A PARTICULAR METHOD USED IN OBJECT-ORIENTED PROGRAMMING TO\n",
    "GENERATE AND INITIALISE AN OBJECT OF A CLASS. IN THE CLASS, THIS METHOD IS DEFINED.\n",
    "- A CONSTRUCTOR IS A SPECIAL METHOD WITHIN A CLASS THAT IS AUTOMATICALLY CALLED WHEN AN OBJECT OF THAT CLASS IS CREATED.\n",
    "\n",
    "        #SYNATX OF CONSTRUCTOR\n",
    "\n",
    "        DEF __INT__(SELF):\n",
    "          #BODY OF CONSTRUCTOR\n",
    "- __TYPES OF CONSTRUCTOR:__\n",
    "    - __DEFAULT CONSTRUCTOR:__ IF NO CONSTRUCTOR IS DEFINED, PYTHON WILL PROVIDE A DEFAULT CONSTRUCTOR.\n",
    "    - __NON-PARAMETRIZED CONSTRUCTOR:__ NON-PARAMETERIZED CONSTRUCTORS ARE THOSE THAT TAKE NO PARAMETERS.\n",
    "    - __PARAMETRIZED CONSTRUCTOR:__ A PARAMETERIZED CONSTRUCTOR IS ONE WITH SPECIFIED ARGUMENTS OR PARAMETERS.\n",
    "-----------------------------------------------------------------\n",
    "Q10. WHAT ARE CLASS AND STATIC METHODS IN PYTHON?\n",
    "- __CLASS METHODS:__\n",
    "    - CLASS METHODS ARE METHODS THAT ARE BOUND TO THE CLASS AND NOT THE INSTANCE OF THE CLASS. THEY CAN ACCESS OR MODIFY CLASS STATE THAT APPLIES ACROSS ALL INSTANCES OF THE CLASS. CLASS METHODS ARE DEFINED USING THE `@CLASSMETHOD` DECORATOR.\n",
    "    \n",
    "          #SYNTAX\n",
    "\n",
    "            CLASS CLASSNAME(OBJECT):\n",
    "            @CLASSMETHOD\n",
    "            DEF METHOD(CLS, ARG1, ARG2, ...):\n",
    "              ....\n",
    "\n",
    "- __STATIC METHODS:__\n",
    "    - STATIC METHODS ARE METHODS THAT BELONG TO THE CLASS AND DON'T ACCESS OR MODIFY CLASS OR INSTANCE STATE. THEY ARE DEFINED USING THE `@STATICMETHOD` DECORATOR.\n",
    "\n",
    "          #SYNTAX\n",
    "            CLASS CLASSNAME(OBJECT):\n",
    "            @STATICMETHOD\n",
    "            DEF METHOD(ARG1, ARG2, ...):\n",
    "              ....\n",
    "-----------------------------------------------------------------\n",
    "Q11. WHAT IS METHOD OVERLOADING IN PYTHON?\n",
    "- TWO OR MORE METHODS HAVE THE SAME NAME BUT DIFFERENT NUMBERS OF PARAMETERS OR DIFFERENT TYPES OF PARAMETERS, OR BOTH. THESE METHODS ARE CALLED OVERLOADED METHODS AND THIS IS CALLED METHOD OVERLOADING.\n",
    "\n",
    "          #EXAMPLE\n",
    "\n",
    "            CLASS CALCULATOR:\n",
    "              DEF ADD(SELF, *ARGS):\n",
    "                  RESULT = 0\n",
    "                  FOR NUM IN ARGS:\n",
    "                      RESULT += NUM\n",
    "                  RETURN RESULT\n",
    "\n",
    "            CALC = CALCULATOR()\n",
    "            PRINT(CALC.ADD(2, 3))  # OUTPUT: 5\n",
    "            PRINT(CALC.ADD(1, 2, 3, 4))  # OUTPUT: 10\n",
    "-----------------------------------------------------------------\n",
    "Q12. WHAT IS METHOD OVERRIDING IN OOP?\n",
    "- METHOD OVERRIDING IS AN ABILITY OF ANY OBJECT-ORIENTED PROGRAMMING LANGUAGE THAT ALLOWS A SUBCLASS OR CHILD CLASS TO PROVIDE A SPECIFIC IMPLEMENTATION OF A METHOD THAT IS ALREADY PROVIDED BY ONE OF ITS SUPER-CLASSES OR PARENT CLASSES.\n",
    "\n",
    "          #EXAMPLE\n",
    "            CLASS ANIMAL:\n",
    "              DEF MAKE_SOUND(SELF):\n",
    "                  PRINT(\"GENERIC ANIMAL SOUND\")\n",
    "\n",
    "            CLASS DOG(ANIMAL):\n",
    "              DEF MAKE_SOUND(SELF):\n",
    "                  PRINT(\"WOOF!\")\n",
    "\n",
    "            # CREATE AN OBJECT OF THE DOG CLASS\n",
    "            MY_DOG = DOG()\n",
    "\n",
    "            # CALL THE MAKE_SOUND() METHOD ON THE DOG OBJECT\n",
    "            MY_DOG.MAKE_SOUND()  # OUTPUT: WOOF!\n",
    "\n",
    "-----------------------------------------------------------------\n",
    "Q13.  WHAT IS A PROPERTY DECORATOR IN PYTHON?\n",
    "- IN PYTHON, A PROPERTY DECORATOR IS A POWERFUL TOOL THAT ALLOWS YOU TO DEFINE CLASS ATTRIBUTES AS IF THEY WERE REGULAR ATTRIBUTES WHILE ACTUALLY CONTROLLING THEIR ACCESS AND BEHAVIOR BEHIND THE SCENES.\n",
    "- __BENEFITS OF USING PROPERTY DECORATOR ARE:__\n",
    "    - DATA VALIDATION\n",
    "    - FLEXIBILITY\n",
    "    - READABILITY\n",
    "- PROPERTY DECORATORS PROVIDE A CLEAN AND ELEGANT WAY TO MANAGE ATTRIBUTE ACCESS IN PYTHON CLASSES. BY USING PROPERTY DECORATORS EFFECTIVELY, YOU CAN CREATE MORE ROBUST AND WELL-STRUCTURED OBJECT-ORIENTED CODE BECAUSE THEY ENHANCE CODE READABILITY, MAINTAINABILITY, AND DATA INTEGRITY.\n",
    "-----------------------------------------------------------------\n",
    "Q14. WHY IS POLYMORPHISM IMPORTANT IN OOP?\n",
    "- POLYMORPHISM IS A CORE CONCEPT IN OBJECT-ORIENTED PROGRAMMING (OOP) THAT ENABLES A SINGLE INTERFACE OR METHOD TO OPERATE DIFFERENTLY BASED ON THE OBJECT IT IS ACTING UPON.\n",
    "\n",
    "- __IMPORTANCE OF POLYMORPHISM:__\n",
    "\n",
    "    - __CODE REUSABILITY:__ THIS REDUCES CODE DUPLICATION AND ENHANCES REUSABILITY.\n",
    "    - __FLEXIBILITY AND EXTENSIBILITY:__ THIS MAKES IT EASIER TO EXTEND AND MAINTAIN SYSTEMS OVER TIME.\n",
    "    - __SIMPLIFIED CODE:__ POLYMORPHISM SIMPLIFIES CODE BY ALLOWING DEVELOPERS TO USE COMMON INTERFACES FOR DIFFERENT TYPES, WHICH LEADS TO CLEANER AND MORE READABLE CODE.\n",
    "    - __DYNAMIC BEHAVIOR:__ POLYMORPHISM SUPPORTS DYNAMIC METHOD INVOCATION ENABLING DECISIONS TO BE MADE AT RUNTIME ABOUT WHICH METHOD TO CALL.\n",
    "-----------------------------------------------------------------\n",
    "Q15. WHAT IS AN ABSTRACT CLASS IN PYTHON?\n",
    "- AN ABSTRACT CLASS IS A CLASS THAT CANNOT BE INSTANTIATED DIRECTLY. IT SERVES AS A BLUEPRINT OR TEMPLATE FOR OTHER CLASSES, DEFINING A COMMON INTERFACE AND ENFORCING A SPECIFIC STRUCTURE.\n",
    "-----------------------------------------------------------------\n",
    "Q16. WHAT ARE THE ADVANTAGES OF OOP?\n",
    "- THE ADVANTAGES OF OOPS ARE:\n",
    "\n",
    "    - __REUSABILITY:__ THIS PROMOTES CODE REUSE, REDUCING DEVELOPMENT TIME AND EFFORT.\n",
    "    - __FLEXIBILITY:__ THIS MAKES THE CODE MORE ADAPTABLE TO CHANGES AND EASIER TO EXTEND WITH NEW FEATURES.\n",
    "    - __IMPROVED CODE READABILITY:__ OOP PROMOTES A MORE ORGANIZED AND STRUCTURED APPROACH TO CODING, MAKING IT EASIER FOR DEVELOPERS TO UNDERSTAND AND MAINTAIN THE CODEBASE.\n",
    "    - __COLLABORATION:__ OOP FACILITATES COLLABORATION AMONG DEVELOPERS BY PROVIDING A CLEAR AND WELL-DEFINED STRUCTURE FOR ORGANIZING CODE.\n",
    "    - __REAL-WORLD MODELING:__ OOP ALLOWS YOU TO MODEL REAL-WORLD ENTITIES AND THEIR RELATIONSHIPS IN A NATURAL AND INTUITIVE WAY.\n",
    "\n",
    "-----------------------------------------------------------------\n",
    "Q17. WHAT IS THE DIFFERENCE BETWEEN A CLASS VARIABLE AND AN INSTANCE VARIABLE?\n",
    "-  __CLASS VARIABLE:__\n",
    "\n",
    "    - __CLASS VARIABLES SHARED AMONG ALL INSTANCES:__ CLASS VARIABLES ARE SHARED BY ALL OBJECTS CREATED FROM THE SAME CLASS.\n",
    "    - __DEFINED WITHIN THE CLASS:__ THEY ARE DEFINED WITHIN THE CLASS BUT OUTSIDE ANY METHOD.\n",
    "    - __ACCESSED USING THE CLASS NAME:__ ACCESSED USING THE CLASS NAME FOLLOWED BY THE DOT OPERATOR LIKE THIS:-  `CLASSNAME.VARIABLE_NAME`\n",
    "\n",
    "-  __INSTANCE VARIABLE:__\n",
    "\n",
    "    - __UNIQUE TO EACH INSTANCE:__ INSTANCE VARIABLES ARE SPECIFIC TO EACH OBJECT CREATED FROM THE CLASS.\n",
    "    - __DEFINED WITHIN THE CONSTRUCTOR__ `__INIT__` __OR OTHER METHODS:__ USUALLY DEFINED WITHIN THE `__INIT__` METHOD.\n",
    "    - __ACCESSED USING THE OBJECT NAME:__ ACCESSED USING THE OBJECT NAME FOLLOWED BY THE DOT OPERATOR LIKE THIS:- `OBJECT_NAME.VARIABLE_NAME`\n",
    "-----------------------------------------------------------------\n",
    "Q18. WHAT IS MULTIPLE INHERITANCE IN PYTHON?\n",
    "- IN MULTIPLE INHERITANCE ONE CHILD CLASS MAY INHERIT FROM SEVERAL PARENT CLASSES WHEN THERE IS MULTIPLE INHERITANCE.\n",
    "- MULTIPLE INHERITANCE ALLOWS CLASSES TO INHERIT AND COMBINE THE BEHAVIOR OF MULTIPLE PARENT CLASSES, PROVIDING FLEXIBILITY IN DESIGNING COMPLEX CLASS HIERARCHIES. HOWEVER, IT'S IMPORTANT TO CAREFULLY CONSIDER THE DESIGN AND\n",
    "POTENTIAL COMPLEXITIES THAT CAN ARISE WHEN USING MULTIPLE INHERITANCE.\n",
    "\n",
    "                                ---------- PARENT CLASS 1\n",
    "            CHILD CLASS --------       \n",
    "                                ---------- PARENT CLASS 2\n",
    "\n",
    "-----------------------------------------------------------------\n",
    "Q19.EXPLAIN THE PURPOSE OF `__STR__` AND  `__REPR__` METHODS IN PYTHON?\n",
    "- IN PYTHON, `__STR__` AND `__REPR__` ARE DUNDER METHODS USED TO CONTROL HOW OBJECTS ARE REPRESENTED AS STRINGS.\n",
    "    - `__STR__`(SELF): THIS METHOD IS CALLED WHEN THE STR() FUNCTION IS USED ON AN INSTANCE OF THE CLASS. IT SHOULD RETURN A STRING REPRESENTATION OF THE OBJECT.\n",
    "\n",
    "            #EXAMPLE\n",
    "\n",
    "              CLASS MYCLASS:\n",
    "                DEF __INIT__(SELF, X):\n",
    "                  SELF.X = X\n",
    "                DEF __STR__(SELF):\n",
    "                  RETURN F'MYCLASS INSTANCE WITH X = {SELF.X}'\n",
    "              OBJ = MYCLASS(10)\n",
    "              PRINT(STR(OBJ))\n",
    "            \n",
    "            #OUTPUT\n",
    "\n",
    "            MYCLASS INSTANCE WITH X = 10\n",
    "\n",
    "    - `__REPR__`(SELF): THIS METHOD IS CALLED WHEN THE REPR() FUNCTION IS USED ON AN INSTANCE OF THE CLASS. IT SHOULD RETURN AN UNAMBIGUOUS STRING REPRESENTATION OF THE OBJECT, WHICH CAN BE USED TO RECREATE THE OBJECT.\n",
    "\n",
    "            #EXAMPLE\n",
    "\n",
    "              CLASS MYCLASS:\n",
    "                DEF __INIT__(SELF, X):\n",
    "                  SELF.X = X\n",
    "                DEF __REPR__(SELF):\n",
    "                  RETURN F'MYCLASS ({SELF.X})'\n",
    "              OBJ = MYCLASS(10)\n",
    "              PRINT(REPR(OBJ))\n",
    "\n",
    "            #OUTPUT\n",
    "\n",
    "            MYCLASS (10)\n",
    "-----------------------------------------------------------------\n",
    "Q20. WHAT IS THE SIGNIFICANCE OF THE `SUPER()` FUNCTION IN PYTHON?\n",
    "- THE `SUPER()` FUNCTION IS ESSENTIAL IN PYTHON FOR MANAGING INHERITANCE. IT SIMPLIFIES CODE, PROMOTES REUSABILITY, AND ENSURES PROPER INITIALIZATION AND METHOD RESOLUTION IN COMPLEX INHERITANCE SCENARIOS. IT IS PARTICULARLY POWERFUL IN SYSTEMS WITH MULTIPLE INHERITANCE OR DYNAMIC CLASS HIERARCHIES.\n",
    "\n",
    "- __BENEFITS OF SUPER() FUNCTION:-__\n",
    "    - ACCESSING PARENT CLASS METHODS AND ATTRIBUTES\n",
    "    - AVOIDING EXPLICIT PARENT CLASS NAMES\n",
    "    - WORKING WITH MULTIPLE INHERITANCE\n",
    "    - CODE REUSABILITY\n",
    "-----------------------------------------------------------------\n",
    "Q21. WHAT IS THE SIGNIFICANCE OF THE `__DEL__` METHOD IN PYTHON?\n",
    "-  THE `__DEL__` METHOD IN PYTHON IS A SPECIAL METHOD, ALSO KNOWN AS THE DESTRUCTOR, WHICH IS CALLED WHEN AN OBJECT IS ABOUT TO BE DESTROYED. ITS PRIMARY PURPOSE IS TO DEFINE CLEANUP ACTIONS THAT NEED TO OCCUR BEFORE THE OBJECT'S MEMORY IS DEALLOCATED BY THE GARBAGE COLLECTOR.\n",
    "\n",
    "- USE OF `__DEL__` METHOD:-\n",
    "\n",
    "    - __CLEANUP OPERATIONS:__ THE PRIMARY PURPOSE OF `__DEL__` IS TO PERFORM ANY NECESSARY CLEANUP OPERATIONS BEFORE AN OBJECT IS PERMANENTLY REMOVED FROM MEMORY.\n",
    "    - CLOSING FILES THAT THE OBJECT WAS USING.\n",
    "    - RELEASING EXTERNAL RESOURCES LIKE:- NETWORK CONNECTIONS OR DATABASE CONNECTIONS.\n",
    "    - PERFORMING ANY OTHER NECESSARY CLEANUP TASKS.\n",
    "\n",
    "\n",
    "-----------------------------------------------------------------\n",
    "Q22. WHAT IS THE DIFFERENCE BETWEEN `@STATICMETHOD` AND `@CLASSMETHOD` IN PYTHON?\n",
    "- __@STATICMETHOD:__\n",
    "\n",
    "  - __NO IMPLICIT FIRST ARGUMENT:__ IT DOES NOT TAKE ANY IMPLICIT FIRST ARGUMENT (LIKE SELF OR CLS).\n",
    "  - __NO ACCESS TO CLASS OR INSTANCE:__ IT CANNOT ACCESS OR MODIFY INSTANCE-LEVEL (SELF) OR CLASS-LEVEL (CLS) DATA.\n",
    "  - __UTILITY FUNCTIONS:__ PRIMARILY USED FOR UTILITY FUNCTIONS THAT LOGICALLY BELONG TO THE CLASS BUT DON'T NEED TO ACCESS CLASS OR INSTANCE-SPECIFIC DATA.\n",
    "  - __INHERITANCE:__ STATIC METHODS CAN BE INHERITED AND OVERRIDDEN BY SUBCLASSES.\n",
    "  - __CALLED ON CLASS OR INSTANCE:__ CAN BE CALLED ON BOTH THE CLASS AND ITS INSTANCES.\n",
    "\n",
    "- __@CLASSMETHOD:__\n",
    "  - __IMPLICIT FIRST ARGUMENT (CLS):__ IT TAKES THE CLASS (CLS) AS THE FIRST ARGUMENT.\n",
    "  - __ACCESS TO CLASS DATA:__ IT HAS ACCESS TO CLASS-LEVEL DATA AND CAN MODIFY CLASS-LEVEL ATTRIBUTES.\n",
    "  - __ALTERNATIVE CONSTRUCTORS:__ OFTEN USED FOR DEFINING ALTERNATIVE CONSTRUCTORS OR METHODS THAT OPERATE ON THE CLASS RATHER THAN AN INSTANCE.\n",
    "  - __INHERITANCE:__ CLASS METHODS CAN BE INHERITED AND OVERRIDDEN BY SUBCLASSES, AND THEY WILL RECEIVE THE SUBCLASS AS CLS WHEN CALLED FROM AN INSTANCE.\n",
    "  - __CALLED ON CLASS OR INSTANCE:__ CAN BE CALLED ON BOTH THE CLASS AND ITS INSTANCES, BUT ALWAYS RECEIVES THE CLASS AS THE FIRST ARGUMENT.\n",
    "\n",
    "-----------------------------------------------------------------\n",
    "Q23.  HOW DOES POLYMORPHISM WORK IN PYTHON WITH INHERITANCE?\n",
    "- POLYMORPHISM, IN THE CONTEXT OF OBJECT-ORIENTED PROGRAMMING, ALLOWS OBJECTS OF DIFFERENT CLASSES TO BE TREATED AS OBJECTS OF A COMMON TYPE. IN PYTHON, INHERITANCE PLAYS A CRUCIAL ROLE IN ACHIEVING POLYMORPHISM.\n",
    "\n",
    "            #EXAMPLE\n",
    "              CLASS ANIMAL:\n",
    "                  DEF MAKE_SOUND(SELF):\n",
    "                      PASS\n",
    "\n",
    "              CLASS DOG(ANIMAL):\n",
    "                  DEF MAKE_SOUND(SELF):\n",
    "                      PRINT(\"WOOF!\")\n",
    "\n",
    "              CLASS CAT(ANIMAL):\n",
    "                  DEF MAKE_SOUND(SELF):\n",
    "                      PRINT(\"MEOW!\")\n",
    "\n",
    "              DEF ANIMAL_SOUNDS(ANIMALS):\n",
    "                  FOR ANIMAL IN ANIMALS:\n",
    "                      ANIMAL.MAKE_SOUND()\n",
    "\n",
    "              ANIMALS = [DOG(), CAT()]\n",
    "              ANIMAL_SOUNDS(ANIMALS)\n",
    "            \n",
    "            #OUTPUT\n",
    "\n",
    "              WOOF!\n",
    "              MEOW!\n",
    "\n",
    "-----------------------------------------------------------------\n",
    "Q24. WHAT IS METHOD CHAINING IN PYTHON OOP?\n",
    "-  METHOD CHAINING IS A POWERFUL TECHNIQUE IN PYTHON THAT ALLOWS YOU TO CALL MULTIPLE METHODS ON AN OBJECT IN A SINGLE, CONTINUOUS LINE OF CODE. THIS APPROACH MAKES THE CODE CLEANER, MORE READABLE, AND OFTEN EASIER TO MAINTAIN.\n",
    "\n",
    "- __BENEFITS OF METHOD CHAINING IN PYTHON ARE:__\n",
    "    - __IMPROVED READABILITY__\n",
    "    - __ENHANCED FLUENCY__\n",
    "    - __REDUCED BOILERPLATE__\n",
    "\n",
    "              #EXAMPLE\n",
    "\n",
    "                CLASS CAR:\n",
    "                    DEF __INIT__(SELF, COLOR):\n",
    "                        SELF.COLOR = COLOR\n",
    "\n",
    "                    DEF START(SELF):\n",
    "                        PRINT(\"CAR STARTED.\")\n",
    "                        RETURN SELF  # RETURN THE OBJECT ITSELF\n",
    "\n",
    "                    DEF ACCELERATE(SELF):\n",
    "                        PRINT(\"CAR ACCELERATING.\")\n",
    "                        RETURN SELF\n",
    "\n",
    "                    DEF BRAKE(SELF):\n",
    "                        PRINT(\"CAR BRAKING.\")\n",
    "                        RETURN SELF\n",
    "\n",
    "                MY_CAR = CAR(\"RED\")\n",
    "                MY_CAR.START().ACCELERATE().BRAKE()\n",
    "\n",
    "              #OUTPUT\n",
    "\n",
    "                CAR STARTED.\n",
    "                CAR ACCELERATING.\n",
    "                CAR BRAKING.\n",
    "-----------------------------------------------------------------\n",
    "Q25. WHAT IS THE PURPOSE OF THE `__CALL__` METHOD IN PYTHON?\n",
    "- THE `__CALL__` METHOD IN PYTHON ALLOWS AN INSTANCE OF A CLASS TO BE CALLED AS IF IT WERE A FUNCTION. THIS MEANS THAT YOU CAN MAKE OBJECTS OF A CLASS BEHAVE LIKE CALLABLE FUNCTIONS. WHEN YOU DEFINE THE `__CALL__` METHOD IN A CLASS, YOU ENABLE INSTANCES OF THAT CLASS TO BE INVOKED USING PARENTHESES, JUST LIKE A FUNCTION.\n",
    "- __PURPOSE:__\n",
    "    - __MAKING OBJECTS CALLABLE:__ ALLOWS INSTANCES OF A CLASS TO BE CALLED LIKE A FUNCTION USING PARENTHESES ().\n",
    "    - __CUSTOM BEHAVIOR:__ ENABLES DEFINING CUSTOM LOGIC THAT RUNS WHEN THE OBJECT IS CALLED.\n",
    "    - __DYNAMIC DISPATCH:__ FACILITATES DYNAMIC BEHAVIOR CHANGES, LIKE HANDLING DIFFERENT ARGUMENTS OR PERFORMING COMPUTATIONS BASED ON THE CALL.\n",
    "    - __FUNCTIONALITY ENCAPSULATION:__ LETS YOU ENCAPSULATE BEHAVIOR INSIDE AN OBJECT, MAKING THE OBJECT MORE VERSATILE.\n",
    "-----------------------------------------------------------------"
   ]
  },
  {
   "cell_type": "markdown",
   "metadata": {
    "id": "7FV1pbS-CsLR"
   },
   "source": [
    "# PRACTICAL QUESTIONS\n"
   ]
  },
  {
   "cell_type": "code",
   "execution_count": null,
   "metadata": {
    "colab": {
     "base_uri": "https://localhost:8080/"
    },
    "id": "5e3em61_C552",
    "outputId": "533b1605-b686-4b50-e4d9-669696870315"
   },
   "outputs": [
    {
     "name": "stdout",
     "output_type": "stream",
     "text": [
      "Some generic sound\n",
      "Bark!\n"
     ]
    }
   ],
   "source": [
    "#Practical question\n",
    "'''\n",
    "Q1.  Create a parent class Animal with a method speak() that prints a generic message. Create a child class Dog\n",
    "that overrides the speak() method to print \"Bark!\"\n",
    "\n",
    "'''\n",
    "'''\n",
    "Answere:-1\n",
    "'''\n",
    "class Animal:\n",
    "    def speak(self):\n",
    "        print(\"Some generic sound\")\n",
    "class Dog(Animal):\n",
    "    def speak(self):\n",
    "        print(\"Bark!\")\n",
    "\n",
    "generic_animal = Animal()\n",
    "dog = Dog()\n",
    "\n",
    "generic_animal.speak()\n",
    "dog.speak()"
   ]
  },
  {
   "cell_type": "code",
   "execution_count": null,
   "metadata": {
    "colab": {
     "base_uri": "https://localhost:8080/"
    },
    "id": "k0IVisbBDBOc",
    "outputId": "b9d31510-0f4a-487d-aed0-25f5faaac6f6"
   },
   "outputs": [
    {
     "name": "stdout",
     "output_type": "stream",
     "text": [
      "Circle area: 78.53981633974483\n",
      "Rectangle area: 24\n"
     ]
    }
   ],
   "source": [
    "#Practical question\n",
    "'''\n",
    "Q2. Write a program to create an abstract class Shape with a method area(). Derive classes Circle and Rectangle\n",
    "from it and implement the area() method in both.\n",
    "\n",
    "'''\n",
    "'''\n",
    "Answere:-2\n",
    "'''\n",
    "from abc import ABC, abstractmethod\n",
    "import math\n",
    "\n",
    "class Shape(ABC):\n",
    "    @abstractmethod\n",
    "    def area(self):\n",
    "        pass\n",
    "\n",
    "class Circle(Shape):\n",
    "    def __init__(self, radius):\n",
    "        self.radius = radius\n",
    "\n",
    "    def area(self):\n",
    "        return math.pi * self.radius**2\n",
    "\n",
    "class Rectangle(Shape):\n",
    "    def __init__(self, width, height):\n",
    "        self.width = width\n",
    "        self.height = height\n",
    "\n",
    "    def area(self):\n",
    "        return self.width * self.height\n",
    "\n",
    "circle = Circle(5)\n",
    "print(\"Circle area:\", circle.area())\n",
    "\n",
    "rectangle = Rectangle(4, 6)\n",
    "print(\"Rectangle area:\", rectangle.area())"
   ]
  },
  {
   "cell_type": "code",
   "execution_count": null,
   "metadata": {
    "colab": {
     "base_uri": "https://localhost:8080/"
    },
    "id": "8whdbvomDA3o",
    "outputId": "df02c72d-0783-4f2e-ac52-b52d91330f05"
   },
   "outputs": [
    {
     "name": "stdout",
     "output_type": "stream",
     "text": [
      "Type: Electric,\n",
      "Brand: Tesla,\n",
      "Model: Model S, \n",
      "Battery Capacity: 100 kWh\n"
     ]
    }
   ],
   "source": [
    "#Practical question\n",
    "'''\n",
    "Q3. Implement a multi-level inheritance scenario where a class Vehicle has an attribute type. Derive a class Car\n",
    "and further derive a class ElectricCar that adds a battery attribute.\n",
    "\n",
    "'''\n",
    "'''\n",
    "Answere:-3\n",
    "'''\n",
    "class Vehicle:\n",
    "    def __init__(self, vehicle_type):\n",
    "        self.vehicle_type = vehicle_type\n",
    "\n",
    "class Car(Vehicle):\n",
    "    def __init__(self, vehicle_type, brand, model):\n",
    "        super().__init__(vehicle_type)\n",
    "        self.brand = brand\n",
    "        self.model = model\n",
    "\n",
    "class ElectricCar(Car):\n",
    "    def __init__(self, vehicle_type, brand, model, battery_capacity):\n",
    "        super().__init__(vehicle_type, brand, model)\n",
    "        self.battery_capacity = battery_capacity\n",
    "\n",
    "#i'm using `\\n` to print all the details in new line\n",
    "    def display_info(self):\n",
    "        return (f\"Type: {self.vehicle_type},\\nBrand: {self.brand},\\nModel: {self.model}, \"\n",
    "                f\"\\nBattery Capacity: {self.battery_capacity} kWh\")\n",
    "\n",
    "electric_car = ElectricCar(\"Electric\", \"Tesla\", \"Model S\", 100)\n",
    "\n",
    "print(electric_car.display_info())"
   ]
  },
  {
   "cell_type": "code",
   "execution_count": 1,
   "metadata": {
    "colab": {
     "base_uri": "https://localhost:8080/"
    },
    "id": "wckaFLX9DAbK",
    "outputId": "a987f4f6-4ad8-4291-c761-e989fb259f56"
   },
   "outputs": [
    {
     "name": "stdout",
     "output_type": "stream",
     "text": [
      "Type: Electric,\n",
      "Brand: Tesla,\n",
      "Model: Model S, \n",
      "Battery Capacity: 100 kWh\n"
     ]
    }
   ],
   "source": [
    "#Practical question // #question 3 and 4 are same!!\n",
    "'''\n",
    "Q4. Implement a multi-level inheritance scenario where a class Vehicle has an attribute type. Derive a class Car\n",
    "and further derive a class ElectricCar that adds a battery attribute.\n",
    "\n",
    "'''\n",
    "'''\n",
    "Answere:-4\n",
    "'''\n",
    "class Vehicle:\n",
    "    def __init__(self, vehicle_type):\n",
    "        self.vehicle_type = vehicle_type\n",
    "\n",
    "class Car(Vehicle):\n",
    "    def __init__(self, vehicle_type, brand, model):\n",
    "        super().__init__(vehicle_type)\n",
    "        self.brand = brand\n",
    "        self.model = model\n",
    "\n",
    "class ElectricCar(Car):\n",
    "    def __init__(self, vehicle_type, brand, model, battery_capacity):\n",
    "        super().__init__(vehicle_type, brand, model)\n",
    "        self.battery_capacity = battery_capacity\n",
    "\n",
    "#i'm using `\\n` to print all the details in new line\n",
    "    def display_info(self):\n",
    "        return (f\"Type: {self.vehicle_type},\\nBrand: {self.brand},\\nModel: {self.model}, \"\n",
    "                f\"\\nBattery Capacity: {self.battery_capacity} kWh\")\n",
    "\n",
    "electric_car = ElectricCar(\"Electric\", \"Tesla\", \"Model S\", 100)\n",
    "\n",
    "print(electric_car.display_info())"
   ]
  },
  {
   "cell_type": "code",
   "execution_count": null,
   "metadata": {
    "colab": {
     "base_uri": "https://localhost:8080/"
    },
    "id": "qn0mAzSjDAFQ",
    "outputId": "44acbb38-6338-445f-8b7f-c1628a57ec4e"
   },
   "outputs": [
    {
     "name": "stdout",
     "output_type": "stream",
     "text": [
      "Deposited ₹500 to your account no. xxxx69 successfully!!. \n",
      "->New balance: ₹1500\n",
      "Withdrew ₹200 from your account no. xxxx69 successfully!!. \n",
      "->New balance: ₹1300\n",
      "Oops!! Invalid withdrawal amount or insufficient funds. Your Current balance is ₹1300\n"
     ]
    }
   ],
   "source": [
    "#Practical question\n",
    "'''\n",
    "Q5. Write a program to demonstrate encapsulation by creating a class BankAccount with private attributes\n",
    "balance and methods to deposit, withdraw, and check balance.\n",
    "\n",
    "'''\n",
    "'''\n",
    "Answere:-5\n",
    "'''\n",
    "class BankAccount:\n",
    "    def __init__(self, initial_balance=0):\n",
    "        self.__balance = initial_balance\n",
    "\n",
    "    def deposit(self, amount):\n",
    "        if amount > 0:\n",
    "            self.__balance += amount\n",
    "            print(f\"Deposited ₹{amount} to your account no. xxxx69 successfully!!. \\n->New balance: ₹{self.__balance}\")\n",
    "        else:\n",
    "            print(\"Invalid deposit amount.\")\n",
    "\n",
    "    def withdraw(self, amount):\n",
    "        if 0 < amount <= self.__balance:\n",
    "            self.__balance -= amount\n",
    "            print(f\"Withdrew ₹{amount} from your account no. xxxx69 successfully!!. \\n->New balance: ₹{self.__balance}\")\n",
    "        else:\n",
    "            print(f\"Oops!! Invalid withdrawal amount or insufficient funds. Your Current balance is ₹{self.__balance}\")\n",
    "\n",
    "    def check_balance(self):\n",
    "        print(f\"-->Current balance: ₹{self.__balance}\")\n",
    "\n",
    "account = BankAccount(1000)\n",
    "account.deposit(500)\n",
    "account.withdraw(200)\n",
    "#i'm writing another withdraw in case of insufficient balance\n",
    "account.withdraw(1500)"
   ]
  },
  {
   "cell_type": "code",
   "execution_count": null,
   "metadata": {
    "colab": {
     "base_uri": "https://localhost:8080/"
    },
    "id": "mWrfqcsQC_v0",
    "outputId": "8cabfdaf-1679-4962-f774-5e306dfe448a"
   },
   "outputs": [
    {
     "name": "stdout",
     "output_type": "stream",
     "text": [
      "Playing the guitar\n",
      "Playing the piano\n"
     ]
    }
   ],
   "source": [
    "#Practical question\n",
    "'''\n",
    "Q6. Demonstrate runtime polymorphism using a method play() in a base class Instrument. Derive classes Guitar\n",
    "and Piano that implement their own version of play().\n",
    "\n",
    "'''\n",
    "'''\n",
    "Answere:-6\n",
    "'''\n",
    "class Instrument:\n",
    "    def play(self):\n",
    "        raise NotImplementedError(\"Subclass must implement abstract method\")\n",
    "class Guitar(Instrument):\n",
    "    def play(self):\n",
    "        print(\"Playing the guitar\")\n",
    "\n",
    "class Piano(Instrument):\n",
    "    def play(self):\n",
    "        print(\"Playing the piano\")\n",
    "def play_instrument(instrument: Instrument):\n",
    "    instrument.play()\n",
    "\n",
    "guitar = Guitar()\n",
    "piano = Piano()\n",
    "\n",
    "play_instrument(guitar)\n",
    "play_instrument(piano)"
   ]
  },
  {
   "cell_type": "code",
   "execution_count": null,
   "metadata": {
    "colab": {
     "base_uri": "https://localhost:8080/"
    },
    "id": "RRKsQVH9C_O5",
    "outputId": "23bf7981-119a-4ecf-84bd-a9aaadc072e1"
   },
   "outputs": [
    {
     "name": "stdout",
     "output_type": "stream",
     "text": [
      "Addition result: 30\n",
      "Subtraction result: 6\n"
     ]
    }
   ],
   "source": [
    "#Practical question\n",
    "'''\n",
    "Q7. Create a class MathOperations with a class method add_numbers() to add two numbers and a static\n",
    "method subtract_numbers() to subtract two numbers.\n",
    "\n",
    "'''\n",
    "'''\n",
    "Answere:-7\n",
    "'''\n",
    "class MathOperations:\n",
    "    @classmethod\n",
    "    def add_numbers(cls, a, b):\n",
    "        return a + b\n",
    "\n",
    "    @staticmethod\n",
    "    def subtract_numbers(a, b):\n",
    "        return a - b\n",
    "\n",
    "# Example usage\n",
    "result_add = MathOperations.add_numbers(25, 5)\n",
    "result_subtract = MathOperations.subtract_numbers(11, 5)\n",
    "\n",
    "print(f\"Addition result: {result_add}\")\n",
    "print(f\"Subtraction result: {result_subtract}\")"
   ]
  },
  {
   "cell_type": "code",
   "execution_count": null,
   "metadata": {
    "colab": {
     "base_uri": "https://localhost:8080/"
    },
    "id": "7EvoG40JC-kv",
    "outputId": "aefa80b9-4181-480c-a4df-39a09aa95c6a"
   },
   "outputs": [
    {
     "name": "stdout",
     "output_type": "stream",
     "text": [
      "Total number of persons: 3\n"
     ]
    }
   ],
   "source": [
    "#Practical question\n",
    "'''\n",
    "Q8. Implement a class Person with a class method to count the total number of persons created.\n",
    "\n",
    "'''\n",
    "'''\n",
    "Answere:-8\n",
    "'''\n",
    "class Person:\n",
    "    count = 0\n",
    "    def __init__(self, name):\n",
    "        self.name = name\n",
    "        Person.count += 1\n",
    "\n",
    "    @classmethod\n",
    "    def total_persons(cls):\n",
    "        return cls.count\n",
    "\n",
    "person1 = Person(\"AVINESH\")\n",
    "person2 = Person(\"ADITYA\")\n",
    "person3 = Person(\"ROHAN\")\n",
    "\n",
    "print(\"Total number of persons:\", Person.total_persons())"
   ]
  },
  {
   "cell_type": "code",
   "execution_count": null,
   "metadata": {
    "colab": {
     "base_uri": "https://localhost:8080/"
    },
    "id": "Ki1DDltXC-Pl",
    "outputId": "3bc95796-2fe1-48e2-b864-ec953ddfe30f"
   },
   "outputs": [
    {
     "name": "stdout",
     "output_type": "stream",
     "text": [
      "3/4\n"
     ]
    }
   ],
   "source": [
    "#Practical question\n",
    "'''\n",
    "Q9. Write a class Fraction with attributes numerator and denominator. Override the str method to display the\n",
    "fraction as \"numerator/denominator\".\n",
    "\n",
    "'''\n",
    "'''\n",
    "Answere:-9\n",
    "'''\n",
    "class Fraction:\n",
    "    def __init__(self, numerator, denominator):\n",
    "        self.numerator = numerator\n",
    "        self.denominator = denominator\n",
    "\n",
    "    def __str__(self):\n",
    "        return f\"{self.numerator}/{self.denominator}\"\n",
    "\n",
    "fraction = Fraction(3, 4)\n",
    "print(fraction)"
   ]
  },
  {
   "cell_type": "code",
   "execution_count": null,
   "metadata": {
    "colab": {
     "base_uri": "https://localhost:8080/"
    },
    "id": "GKGMXDo9C96b",
    "outputId": "9e98f1f2-8f82-4d0d-812a-3833f46cafb2"
   },
   "outputs": [
    {
     "name": "stdout",
     "output_type": "stream",
     "text": [
      "(4, 6)\n"
     ]
    }
   ],
   "source": [
    "#Practical question\n",
    "'''\n",
    "Q10. Demonstrate operator overloading by creating a class Vector and overriding the add method to add two\n",
    "vectors.\n",
    "\n",
    "'''\n",
    "'''\n",
    "Answere:-10\n",
    "'''\n",
    "class Vector:\n",
    "    def __init__(self, x, y):\n",
    "        self.x = x\n",
    "        self.y = y\n",
    "\n",
    "    def __add__(self, other):\n",
    "        return Vector(self.x + other.x, self.y + other.y)\n",
    "\n",
    "    def __str__(self):\n",
    "        return f\"({self.x}, {self.y})\"\n",
    "\n",
    "v1 = Vector(1, 2)\n",
    "v2 = Vector(3, 4)\n",
    "v3 = v1 + v2\n",
    "print(v3)"
   ]
  },
  {
   "cell_type": "code",
   "execution_count": null,
   "metadata": {
    "colab": {
     "base_uri": "https://localhost:8080/"
    },
    "id": "DCqBRA7JC9j1",
    "outputId": "4033cc93-6d50-4193-c133-e5b5a35add71"
   },
   "outputs": [
    {
     "name": "stdout",
     "output_type": "stream",
     "text": [
      "Hello, my name is AVINESH and I am 21 years old.\n"
     ]
    }
   ],
   "source": [
    "#Practical question\n",
    "'''\n",
    "Q11. Create a class Person with attributes name and age. Add a method greet() that prints \"Hello, my name is\n",
    "{name} and I am {age} years old.\"\n",
    "\n",
    "'''\n",
    "'''\n",
    "Answere:-11\n",
    "'''\n",
    "class Person:\n",
    "    def __init__(self, name, age):\n",
    "        self.name = name\n",
    "        self.age = age\n",
    "\n",
    "    def greet(self):\n",
    "        print(f\"Hello, my name is {self.name} and I am {self.age} years old.\")\n",
    "\n",
    "person = Person(\"AVINESH\", 21)\n",
    "person.greet()\n"
   ]
  },
  {
   "cell_type": "code",
   "execution_count": null,
   "metadata": {
    "colab": {
     "base_uri": "https://localhost:8080/"
    },
    "id": "wWbdyubuC9Lt",
    "outputId": "6c463cbe-8042-4e69-ac8f-4af554606ca8"
   },
   "outputs": [
    {
     "name": "stdout",
     "output_type": "stream",
     "text": [
      "The average grade of AVINESH is: 86.6\n"
     ]
    }
   ],
   "source": [
    "#Practical question\n",
    "'''\n",
    "Q12. Implement a class Student with attributes name and grades. Create a method average_grade() to compute\n",
    "the average of the grades.\n",
    "\n",
    "'''\n",
    "'''\n",
    "Answere:-12\n",
    "'''\n",
    "class Student:\n",
    "    def __init__(self, name, grades):\n",
    "        self.name = name\n",
    "        self.grades = grades\n",
    "\n",
    "    def average_grade(self):\n",
    "        if not self.grades:\n",
    "            return 0\n",
    "        return sum(self.grades) / len(self.grades)\n",
    "\n",
    "student = Student(\"AVINESH\", [85, 90, 78, 92, 88])\n",
    "print(\"The average grade of\",student.name, \"is:\", student.average_grade())"
   ]
  },
  {
   "cell_type": "code",
   "execution_count": null,
   "metadata": {
    "colab": {
     "base_uri": "https://localhost:8080/"
    },
    "id": "KbCkBfaJC81z",
    "outputId": "c973913f-d401-4f65-c931-c321f7791587"
   },
   "outputs": [
    {
     "name": "stdout",
     "output_type": "stream",
     "text": [
      "Area of the rectangle: 20\n"
     ]
    }
   ],
   "source": [
    "#Practical question\n",
    "'''\n",
    "Q13. Create a class Rectangle with methods set_dimensions() to set the dimensions and area() to calculate the\n",
    "area.\n",
    "\n",
    "'''\n",
    "'''\n",
    "Answere:-13\n",
    "'''\n",
    "class Rectangle:\n",
    "    def __init__(self):\n",
    "        self.width = 0\n",
    "        self.height = 0\n",
    "\n",
    "    def set_dimensions(self, width, height):\n",
    "        self.width = width\n",
    "        self.height = height\n",
    "\n",
    "    def area(self):\n",
    "        return self.width * self.height\n",
    "\n",
    "# Example usage\n",
    "rectangle = Rectangle()\n",
    "rectangle.set_dimensions(4, 5)\n",
    "print(f\"Area of the rectangle: {rectangle.area()}\")  # Output: Area of the rectangle: 20"
   ]
  },
  {
   "cell_type": "code",
   "execution_count": null,
   "metadata": {
    "colab": {
     "base_uri": "https://localhost:8080/"
    },
    "id": "5jG9p_oLC8cK",
    "outputId": "069d32ef-00d2-4d25-bc15-3ec393b5fbda"
   },
   "outputs": [
    {
     "name": "stdout",
     "output_type": "stream",
     "text": [
      "Employee Salary: 800\n",
      "\n",
      "Manager Salary: 1700\n"
     ]
    }
   ],
   "source": [
    "#Practical question\n",
    "'''\n",
    "Q14. Create a class Employee with a method calculate_salary() that computes the salary based on hours worked\n",
    "and hourly rate. Create a derived class Manager that adds a bonus to the salary.\n",
    "\n",
    "'''\n",
    "'''\n",
    "Answere:-14\n",
    "'''\n",
    "class Employee:\n",
    "    def __init__(self, name, hours_worked, hourly_rate):\n",
    "        self.name = name\n",
    "        self.hours_worked = hours_worked\n",
    "        self.hourly_rate = hourly_rate\n",
    "\n",
    "    def calculate_salary(self):\n",
    "        return self.hours_worked * self.hourly_rate\n",
    "\n",
    "class Manager(Employee):\n",
    "    def __init__(self, name, hours_worked, hourly_rate, bonus):\n",
    "        super().__init__(name, hours_worked, hourly_rate)\n",
    "        self.bonus = bonus\n",
    "\n",
    "    def calculate_salary(self):\n",
    "        return super().calculate_salary() + self.bonus\n",
    "\n",
    "employee = Employee(\"AJAY\", 40, 20)\n",
    "print(\"Employee Salary:\", employee.calculate_salary())\n",
    "print()\n",
    "manager = Manager(\"AVINESH\", 40, 30, 500)\n",
    "print(\"Manager Salary:\", manager.calculate_salary())"
   ]
  },
  {
   "cell_type": "code",
   "execution_count": null,
   "metadata": {
    "colab": {
     "base_uri": "https://localhost:8080/"
    },
    "id": "dYWA02XfC8FO",
    "outputId": "f81fac52-d277-40df-cfad-1ddde5365ed2"
   },
   "outputs": [
    {
     "name": "stdout",
     "output_type": "stream",
     "text": [
      "100000\n"
     ]
    }
   ],
   "source": [
    "#Practical question\n",
    "'''\n",
    "Q15. Create a class Product with attributes name, price, and quantity. Implement a method total_price() that\n",
    "calculates the total price of the product.\n",
    "\n",
    "'''\n",
    "'''\n",
    "Answere:-15\n",
    "'''\n",
    "class Product:\n",
    "    def __init__(self, name, price, quantity):\n",
    "        self.name = name\n",
    "        self.price = price\n",
    "        self.quantity = quantity\n",
    "\n",
    "    def total_price(self):\n",
    "        return self.price * self.quantity\n",
    "\n",
    "product = Product(\"Laptop\", 50000, 2)\n",
    "\n",
    "print(product.total_price())"
   ]
  },
  {
   "cell_type": "code",
   "execution_count": null,
   "metadata": {
    "colab": {
     "base_uri": "https://localhost:8080/"
    },
    "id": "vxU5Y3inC7Mn",
    "outputId": "300d5641-5c7d-4e0a-8f8c-394741d6095d"
   },
   "outputs": [
    {
     "name": "stdout",
     "output_type": "stream",
     "text": [
      "Cow sound: Mauhh\n",
      "Sheep sound: Beahhhh\n"
     ]
    }
   ],
   "source": [
    "#Practical question\n",
    "'''\n",
    "Q16. Create a class Animal with an abstract method sound(). Create two derived classes Cow and Sheep that\n",
    "implement the sound() method.\n",
    "\n",
    "'''\n",
    "'''\n",
    "Answere:-16\n",
    "'''\n",
    "from abc import ABC, abstractmethod\n",
    "\n",
    "class Animal(ABC):\n",
    "    @abstractmethod\n",
    "    def sound(self):\n",
    "        pass\n",
    "\n",
    "class Cow(Animal):\n",
    "    def sound(self):\n",
    "        return \"Mauhh\"\n",
    "\n",
    "class Sheep(Animal):\n",
    "    def sound(self):\n",
    "        return \"Beahhhh\"\n",
    "\n",
    "# Example usage\n",
    "cow = Cow()\n",
    "sheep = Sheep()\n",
    "\n",
    "print(f\"Cow sound: {cow.sound()}\")\n",
    "print(f\"Sheep sound: {sheep.sound()}\")"
   ]
  },
  {
   "cell_type": "code",
   "execution_count": null,
   "metadata": {
    "colab": {
     "base_uri": "https://localhost:8080/"
    },
    "id": "O7YMEYY_C6td",
    "outputId": "eb66b92b-4f1f-4313-b9aa-5fd6fb652475"
   },
   "outputs": [
    {
     "name": "stdout",
     "output_type": "stream",
     "text": [
      "Title: Don Quixote, Author: Miguel de Cervantes, Year Published: 1605\n"
     ]
    }
   ],
   "source": [
    "#Practical question\n",
    "'''\n",
    "Q17. Create a class Book with attributes title, author, and year_published. Add a method get_book_info() that\n",
    "returns a formatted string with the book's details.\n",
    "\n",
    "'''\n",
    "'''\n",
    "Answere:-17\n",
    "'''\n",
    "class Book:\n",
    "    def __init__(self, title: str, author: str, year_published: int):\n",
    "        self.title = title\n",
    "        self.author = author\n",
    "        self.year_published = year_published\n",
    "\n",
    "    def get_book_info(self) -> str:\n",
    "        return f\"Title: {self.title}, Author: {self.author}, Year Published: {self.year_published}\"\n",
    "\n",
    "book = Book(\"Don Quixote\", \"Miguel de Cervantes\", 1605)\n",
    "\n",
    "print(book.get_book_info())"
   ]
  },
  {
   "cell_type": "code",
   "execution_count": null,
   "metadata": {
    "colab": {
     "base_uri": "https://localhost:8080/"
    },
    "id": "ThTtADmSDfy2",
    "outputId": "6a6b74e5-6ed9-4518-d770-bfc4c81abfe4"
   },
   "outputs": [
    {
     "name": "stdout",
     "output_type": "stream",
     "text": [
      "House address: Gomti Nagar, price: ₹10000\n",
      "Mansion address: Hazratganj, price: ₹50000, number of rooms: 10\n"
     ]
    }
   ],
   "source": [
    "#Practical question\n",
    "'''\n",
    "Q18. Create a class House with attributes address and price. Create a derived class Mansion that adds an\n",
    "attribute number_of_rooms.\n",
    "\n",
    "'''\n",
    "'''\n",
    "Answere:-18\n",
    "'''\n",
    "class House:\n",
    "    def __init__(self, address, price):\n",
    "        self.address = address\n",
    "        self.price = price\n",
    "\n",
    "class Mansion(House):\n",
    "    def __init__(self, address, price, number_of_rooms):\n",
    "        super().__init__(address, price)\n",
    "        self.number_of_rooms = number_of_rooms\n",
    "\n",
    "# Example usage\n",
    "house = House(\"Gomti Nagar\", 10000)\n",
    "mansion = Mansion(\"Hazratganj\", 50000, 10)\n",
    "\n",
    "print(f\"House address: {house.address}, price: ₹{house.price}\")\n",
    "print(f\"Mansion address: {mansion.address}, price: ₹{mansion.price}, number of rooms: {mansion.number_of_rooms}\")"
   ]
  }
 ],
 "metadata": {
  "colab": {
   "collapsed_sections": [
    "7FV1pbS-CsLR"
   ],
   "provenance": []
  },
  "kernelspec": {
   "display_name": "Python 3",
   "name": "python3"
  },
  "language_info": {
   "name": "python"
  }
 },
 "nbformat": 4,
 "nbformat_minor": 0
}
