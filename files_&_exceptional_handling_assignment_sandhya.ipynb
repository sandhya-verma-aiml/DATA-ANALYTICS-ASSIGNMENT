{
 "cells": [
  {
   "cell_type": "markdown",
   "metadata": {
    "id": "Yap-ISx7OXBV"
   },
   "source": [
    "# THEORETICAL QUESTIONS"
   ]
  },
  {
   "cell_type": "markdown",
   "metadata": {
    "id": "f6sz-wmwOZr4"
   },
   "source": [
    "## FILES & EXCEPTIONAL HANDLING ASSIGNMENT\n",
    "\n",
    "-----------------------------------------------------------------\n",
    "Q1. WHAT IS THE DIFFERENCE BETWEEN INTERPRETED AND COMPILED LANGUAGES?\n",
    "- INTERPRETED LANGUAGES ARE EXECUTED LINE-BY-LINE BY AN INTERPRETER AT RUNTIME, TRANSLATING SOURCE CODE INTO MACHINE CODE ON THE FLY. THEY ARE GENERALLY MORE PORTABLE BECAUSE THE SAME SOURCE CODE CAN BE RUN ON ANY PLATFORM WITH THE APPROPRIATE INTERPRETER. HOWEVER, THEY TEND TO BE SLOWER DUE TO THE OVERHEAD OF RUNTIME TRANSLATION. ERRORS ARE DETECTED AT RUNTIME, WHICH MEANS THE PROGRAM MAY RUN UNTIL IT ENCOUNTERS AN ERROR. EXAMPLES INCLUDE PYTHON AND JAVASCRIPT.\n",
    "- COMPILED LANGUAGES ARE TRANSLATED INTO MACHINE CODE BY A COMPILER BEFORE EXECUTION, CREATING AN EXECUTABLE FILE. THIS MACHINE CODE IS SPECIFIC TO THE TARGET PLATFORM, MAKING COMPILED LANGUAGES LESS PORTABLE. HOWEVER, THEY TEND TO BE FASTER BECAUSE THE MACHINE CODE IS EXECUTED DIRECTLY BY THE HARDWARE WITHOUT THE NEED FOR RUNTIME TRANSLATION. ERRORS ARE DETECTED AT COMPILE-TIME, WHICH MEANS THE PROGRAM WILL NOT RUN UNTIL ALL ERRORS ARE FIXED. EXAMPLES INCLUDE C AND C++.\n",
    "-----------------------------------------------------------------\n",
    "Q2. WHAT IS EXCEPTION HANDLING IN PYTHON?\n",
    "- EXCEPTION HANDLING IN PYTHON ALLOWS YOU TO MANAGE RUNTIME ERRORS GRACEFULLY USING TRY, EXCEPT, ELSE, AND FINALLY BLOCKS. THIS MECHANISM HELPS PREVENT PROGRAM CRASHES AND ENSURES PROPER RESOURCE MANAGEMENT. THE TRY BLOCK CONTAINS CODE THAT MIGHT RAISE AN EXCEPTION, THE EXCEPT BLOCK HANDLES THE EXCEPTION IF IT OCCURS, THE ELSE BLOCK EXECUTES CODE IF NO EXCEPTIONS OCCUR, AND THE FINALLY BLOCK EXECUTES CODE REGARDLESS OF WHETHER AN EXCEPTION OCCURS.\n",
    "  # SYNTAX\n",
    "  ```PYTHON\n",
    "  TRY:\n",
    "      RISKY_CODE()\n",
    "  EXCEPT SOMEEXCEPTION AS E:\n",
    "      HANDLE_EXCEPTION(E)\n",
    "  ELSE:\n",
    "      NO_EXCEPTION_OCCURRED()\n",
    "  FINALLY:\n",
    "      CLEANUP_ACTIONS()\n",
    "  ```\n",
    "  # EXAMPLE\n",
    "  ```PYTHON\n",
    "  DEF DIVIDE(A, B):\n",
    "      TRY:\n",
    "          RESULT = A / B\n",
    "      EXCEPT ZERODIVISIONERROR AS E:\n",
    "          PRINT(F\"ERROR: DIVISION BY ZERO IS NOT ALLOWED. {E}\")\n",
    "      EXCEPT TYPEERROR AS E:\n",
    "          PRINT(F\"ERROR: INVALID INPUT TYPE. {E}\")\n",
    "      ELSE:\n",
    "          PRINT(F\"THE RESULT IS {RESULT}\")\n",
    "      FINALLY:\n",
    "          PRINT(\"EXECUTION OF THE DIVIDE FUNCTION IS COMPLETE.\")\n",
    "  \n",
    "  DIVIDE(10, 2)\n",
    "  DIVIDE(10, 0)\n",
    "  DIVIDE(10, 'A')\n",
    "  ```\n",
    "-----------------------------------------------------------------\n",
    "Q3. WHAT IS THE PURPOSE OF THE FINALLY BLOCK IN EXCEPTION HANDLING?\n",
    "- THE FINALLY BLOCK ENSURES THAT CODE RUNS REGARDLESS OF WHETHER AN EXCEPTION OCCURS. IT IS USED FOR CLEANUP ACTIONS LIKE CLOSING FILES OR RELEASING RESOURCES. THIS GUARANTEES THAT IMPORTANT CLEANUP TASKS ARE ALWAYS PERFORMED, EVEN IF AN ERROR OCCURS. THE FINALLY BLOCK IS PARTICULARLY USEFUL FOR RESOURCE MANAGEMENT, ENSURING THAT RESOURCES ARE PROPERLY RELEASED EVEN IF AN ERROR OCCURS.\n",
    "  # SYNTAX\n",
    "  ```PYTHON\n",
    "  TRY:\n",
    "      RISKY_CODE()\n",
    "  FINALLY:\n",
    "      CLEANUP_ACTIONS()\n",
    "  ```\n",
    "-----------------------------------------------------------------\n",
    "Q4. WHAT IS LOGGING IN PYTHON?\n",
    "- LOGGING IS A WAY TO TRACK EVENTS THAT HAPPEN WHEN SOFTWARE RUNS. THE LOGGING MODULE PROVIDES A FLEXIBLE FRAMEWORK FOR EMITTING LOG MESSAGES FROM PYTHON PROGRAMS. IT HELPS IN DEBUGGING, MONITORING, AND UNDERSTANDING THE FLOW OF A PROGRAM BY RECORDING SIGNIFICANT EVENTS. LOGGING CAN BE CONFIGURED TO OUTPUT MESSAGES TO DIFFERENT DESTINATIONS, SUCH AS THE CONSOLE OR A FILE, AND AT DIFFERENT LEVELS OF SEVERITY, SUCH AS DEBUG, INFO, WARNING, ERROR, AND CRITICAL.\n",
    "  # SYNTAX\n",
    "  ```PYTHON\n",
    "  IMPORT LOGGING\n",
    "  LOGGING.BASICCONFIG(LEVEL=LOGGING.INFO)\n",
    "  LOGGING.INFO('THIS IS AN INFO MESSAGE')\n",
    "  ```\n",
    "-----------------------------------------------------------------\n",
    "Q5. WHAT IS THE SIGNIFICANCE OF THE `__DEL__` METHOD IN PYTHON?\n",
    "- THE `__DEL__` METHOD IS CALLED WHEN AN OBJECT IS ABOUT TO BE DESTROYED. IT IS USED TO CLEAN UP RESOURCES LIKE CLOSING FILES OR NETWORK CONNECTIONS. THIS METHOD ENSURES THAT ANY NECESSARY FINALIZATION IS PERFORMED BEFORE THE OBJECT IS REMOVED FROM MEMORY. THE `__DEL__` METHOD IS ALSO KNOWN AS A DESTRUCTOR AND IS USEFUL FOR MANAGING RESOURCES THAT NEED TO BE EXPLICITLY RELEASED WHEN AN OBJECT IS NO LONGER NEEDED.\n",
    "  # SYNTAX\n",
    "  ```PYTHON\n",
    "  CLASS MYCLASS:\n",
    "      DEF __DEL__(SELF):\n",
    "          PRINT('OBJECT IS BEING DELETED')\n",
    "  ```\n",
    "-----------------------------------------------------------------\n",
    "Q6. WHAT IS THE DIFFERENCE BETWEEN IMPORT AND FROM IMPORT IN PYTHON?\n",
    "- **IMPORT:** IMPORTS THE ENTIRE MODULE, MAKING ALL ITS FUNCTIONS AND CLASSES AVAILABLE. YOU NEED TO USE THE MODULE NAME TO ACCESS ITS FUNCTIONS AND CLASSES.\n",
    "- **FROM IMPORT:** IMPORTS SPECIFIC ATTRIBUTES OR FUNCTIONS FROM A MODULE, ALLOWING DIRECT ACCESS WITHOUT MODULE QUALIFICATION. THIS CAN MAKE THE CODE CLEANER AND MORE READABLE.\n",
    "  # SYNTAX\n",
    "  ```PYTHON\n",
    "  IMPORT MATH\n",
    "  FROM MATH IMPORT SQRT\n",
    "  ```\n",
    "-----------------------------------------------------------------\n",
    "Q7. HOW CAN YOU HANDLE MULTIPLE EXCEPTIONS IN PYTHON?\n",
    "- USE MULTIPLE EXCEPT BLOCKS OR A SINGLE EXCEPT BLOCK WITH A TUPLE OF EXCEPTIONS. THIS ALLOWS HANDLING DIFFERENT TYPES OF EXCEPTIONS SEPARATELY OR TOGETHER, PROVIDING MORE CONTROL OVER ERROR HANDLING. MULTIPLE EXCEPT BLOCKS CAN BE USED TO HANDLE DIFFERENT EXCEPTIONS IN DIFFERENT WAYS, WHILE A SINGLE EXCEPT BLOCK WITH A TUPLE CAN HANDLE MULTIPLE EXCEPTIONS IN THE SAME WAY.\n",
    "  # SYNTAX\n",
    "  ```PYTHON\n",
    "  TRY:\n",
    "      RISKY_CODE()\n",
    "  EXCEPT (TYPEERROR, VALUEERROR) AS E:\n",
    "      HANDLE_EXCEPTION(E)\n",
    "  ```\n",
    "-----------------------------------------------------------------\n",
    "Q8. WHAT IS THE PURPOSE OF THE WITH STATEMENT WHEN HANDLING FILES IN PYTHON?\n",
    "- THE WITH STATEMENT ENSURES PROPER ACQUISITION AND RELEASE OF RESOURCES. IT IS COMMONLY USED WITH FILE OPERATIONS TO ENSURE FILES ARE PROPERLY CLOSED, EVEN IF AN ERROR OCCURS. THIS HELPS PREVENT RESOURCE LEAKS AND ENSURES THAT FILES ARE ALWAYS PROPERLY MANAGED. THE WITH STATEMENT SIMPLIFIES RESOURCE MANAGEMENT BY AUTOMATICALLY HANDLING THE SETUP AND TEARDOWN OF RESOURCES.\n",
    "  # SYNTAX\n",
    "  ```PYTHON\n",
    "  WITH OPEN('FILE.TXT', 'R') AS FILE:\n",
    "      CONTENT = FILE.READ()\n",
    "  ```\n",
    "-----------------------------------------------------------------\n",
    "Q9. WHAT IS THE DIFFERENCE BETWEEN MULTITHREADING AND MULTIPROCESSING?\n",
    "- **MULTITHREADING:** MULTIPLE THREADS WITHIN THE SAME PROCESS, SHARING MEMORY SPACE. IT IS USEFUL FOR I/O-BOUND TASKS, SUCH AS READING FROM A FILE OR MAKING NETWORK REQUESTS, WHERE THE PROGRAM SPENDS A LOT OF TIME WAITING FOR EXTERNAL RESOURCES.\n",
    "- **MULTIPROCESSING:** MULTIPLE PROCESSES WITH SEPARATE MEMORY SPACE. IT IS USEFUL FOR CPU-BOUND TASKS, SUCH AS COMPLEX CALCULATIONS, WHERE THE PROGRAM SPENDS A LOT OF TIME PERFORMING COMPUTATIONS. MULTIPROCESSING CAN TAKE ADVANTAGE OF MULTIPLE CPU CORES TO IMPROVE PERFORMANCE.\n",
    "  # SYNTAX\n",
    "  ```PYTHON\n",
    "  IMPORT THREADING\n",
    "  IMPORT MULTIPROCESSING\n",
    "  ```\n",
    "-----------------------------------------------------------------\n",
    "Q10. WHAT ARE THE ADVANTAGES OF USING LOGGING IN A PROGRAM?\n",
    "- LOGGING HELPS IN DEBUGGING AND MONITORING THE APPLICATION BY PROVIDING A RECORD OF RUNTIME EVENTS. IT ALLOWS DEVELOPERS TO TRACK THE FLOW OF THE PROGRAM AND IDENTIFY ISSUES, MAKING IT EASIER TO MAINTAIN AND TROUBLESHOOT THE APPLICATION. LOGGING CAN ALSO BE USED TO MONITOR THE APPLICATION'S PERFORMANCE AND BEHAVIOR IN PRODUCTION, HELPING TO IDENTIFY AND RESOLVE ISSUES BEFORE THEY BECOME CRITICAL.\n",
    "  # SYNTAX\n",
    "  ```PYTHON\n",
    "  IMPORT LOGGING\n",
    "  LOGGING.BASICCONFIG(LEVEL=LOGGING.DEBUG)\n",
    "  LOGGING.DEBUG('DEBUG MESSAGE')\n",
    "  ```\n",
    "-----------------------------------------------------------------\n",
    "Q11. WHAT IS MEMORY MANAGEMENT IN PYTHON?\n",
    "- MEMORY MANAGEMENT IN PYTHON INVOLVES THE ALLOCATION AND DEALLOCATION OF MEMORY TO ENSURE EFFICIENT USE OF RESOURCES AND PREVENT MEMORY LEAKS. PYTHON USES AUTOMATIC MEMORY MANAGEMENT, INCLUDING GARBAGE COLLECTION, TO HANDLE MEMORY ALLOCATION AND DEALLOCATION. THE GARBAGE COLLECTOR AUTOMATICALLY IDENTIFIES AND FREES UNUSED OBJECTS, HELPING TO MANAGE MEMORY EFFICIENTLY AND PREVENT MEMORY LEAKS.\n",
    "  # SYNTAX\n",
    "  ```PYTHON\n",
    "  IMPORT GC\n",
    "  GC.COLLECT()\n",
    "  ```\n",
    "-----------------------------------------------------------------\n",
    "Q12. WHAT ARE THE BASIC STEPS INVOLVED IN EXCEPTION HANDLING IN PYTHON?\n",
    "- IDENTIFY RISKY CODE, HANDLE EXCEPTIONS, EXECUTE ALTERNATIVE CODE, AND CLEAN UP USING TRY, EXCEPT, ELSE, AND FINALLY BLOCKS. THIS STRUCTURED APPROACH ENSURES THAT ERRORS ARE MANAGED GRACEFULLY AND RESOURCES ARE PROPERLY RELEASED. THE TRY BLOCK CONTAINS CODE THAT MIGHT RAISE AN EXCEPTION, THE EXCEPT BLOCK HANDLES THE EXCEPTION IF IT OCCURS, THE ELSE BLOCK EXECUTES CODE IF NO EXCEPTIONS OCCUR, AND THE FINALLY BLOCK EXECUTES CODE REGARDLESS OF WHETHER AN EXCEPTION OCCURS.\n",
    "  # SYNTAX\n",
    "  ```PYTHON\n",
    "  TRY:\n",
    "      RISKY_CODE()\n",
    "  EXCEPT EXCEPTION AS E:\n",
    "      HANDLE_EXCEPTION(E)\n",
    "  ELSE:\n",
    "      NO_EXCEPTION_OCCURRED()\n",
    "  FINALLY:\n",
    "      CLEANUP_ACTIONS()\n",
    "  ```\n",
    "-----------------------------------------------------------------\n",
    "Q13. WHY IS MEMORY MANAGEMENT IMPORTANT IN PYTHON?\n",
    "- MEMORY MANAGEMENT IS CRUCIAL TO PREVENT MEMORY LEAKS AND ENSURE EFFICIENT USE OF RESOURCES, WHICH HELPS MAINTAIN APPLICATION PERFORMANCE. PROPER MEMORY MANAGEMENT ENSURES THAT THE APPLICATION RUNS SMOOTHLY WITHOUT CONSUMING EXCESSIVE MEMORY. BY MANAGING MEMORY EFFICIENTLY, DEVELOPERS CAN PREVENT MEMORY-RELATED ISSUES, SUCH AS CRASHES AND SLOW PERFORMANCE, AND ENSURE THAT THE APPLICATION REMAINS STABLE AND RESPONSIVE.\n",
    "  # SYNTAX\n",
    "  ```PYTHON\n",
    "  IMPORT GC\n",
    "  GC.COLLECT()\n",
    "  ```\n",
    "-----------------------------------------------------------------\n",
    "Q14. WHAT IS THE ROLE OF TRY AND EXCEPT IN EXCEPTION HANDLING?\n",
    "- **TRY:** WRAPS CODE THAT MIGHT RAISE AN EXCEPTION.\n",
    "- **EXCEPT:** HANDLES THE EXCEPTION IF IT OCCURS. THIS STRUCTURE ALLOWS FOR GRACEFUL ERROR HANDLING AND ENSURES THAT THE PROGRAM CAN CONTINUE RUNNING OR TERMINATE GRACEFULLY. THE TRY BLOCK CONTAINS CODE THAT MIGHT RAISE AN EXCEPTION, AND THE EXCEPT BLOCK HANDLES THE EXCEPTION IF IT OCCURS, ALLOWING THE PROGRAM TO RECOVER FROM ERRORS AND CONTINUE RUNNING.\n",
    "  # SYNTAX\n",
    "  ```PYTHON\n",
    "  TRY:\n",
    "      RISKY_CODE()\n",
    "  EXCEPT EXCEPTION AS E:\n",
    "      HANDLE_EXCEPTION(E)\n",
    "  ```\n",
    "-----------------------------------------------------------------\n",
    "Q15. HOW DOES PYTHON'S GARBAGE COLLECTION SYSTEM WORK?\n",
    "- PYTHON'S GARBAGE COLLECTION SYSTEM AUTOMATICALLY DEALLOCATES MEMORY BY IDENTIFYING AND FREEING UNUSED OBJECTS USING REFERENCE COUNTING AND CYCLIC GARBAGE COLLECTOR. THIS HELPS MANAGE MEMORY EFFICIENTLY AND PREVENTS MEMORY LEAKS. THE GARBAGE COLLECTOR TRACKS THE NUMBER OF REFERENCES TO EACH OBJECT AND FREES OBJECTS THAT ARE NO LONGER REFERENCED. IT ALSO DETECTS AND COLLECTS CYCLIC REFERENCES, WHICH ARE GROUPS OF OBJECTS THAT REFERENCE EACH OTHER BUT ARE NOT REACHABLE FROM THE REST OF THE PROGRAM.\n",
    "  # SYNTAX\n",
    "  ```PYTHON\n",
    "  IMPORT GC\n",
    "  GC.COLLECT()\n",
    "  ```\n",
    "-----------------------------------------------------------------\n",
    "Q16. WHAT IS THE PURPOSE OF THE ELSE BLOCK IN EXCEPTION HANDLING?\n",
    "- THE ELSE BLOCK EXECUTES CODE IF NO EXCEPTIONS OCCUR IN THE TRY BLOCK, ALLOWING FOR CLEAN SEPARATION OF NORMAL AND EXCEPTIONAL CODE PATHS. THIS HELPS IN ORGANIZING CODE AND MAKING IT MORE READABLE AND MAINTAINABLE. THE ELSE BLOCK IS USEFUL FOR CODE THAT SHOULD ONLY RUN IF NO EXCEPTIONS OCCUR, PROVIDING A CLEAR DISTINCTION BETWEEN NORMAL AND EXCEPTIONAL CODE PATHS.\n",
    "  # SYNTAX\n",
    "  ```PYTHON\n",
    "  TRY:\n",
    "      RISKY_CODE()\n",
    "  EXCEPT EXCEPTION AS E:\n",
    "      HANDLE_EXCEPTION(E)\n",
    "  ELSE:\n",
    "      NO_EXCEPTION_OCCURRED()\n",
    "  ```\n",
    "-----------------------------------------------------------------\n",
    "Q17. WHAT ARE THE COMMON LOGGING LEVELS IN PYTHON?\n",
    "- THE COMMON LOGGING LEVELS ARE DEBUG, INFO, WARNING, ERROR, AND CRITICAL, EACH INDICATING THE SEVERITY OF THE LOG MESSAGES. THESE LEVELS HELP CATEGORIZE LOG MESSAGES AND CONTROL THE OUTPUT BASED ON THE IMPORTANCE OF THE EVENTS. DEBUG IS USED FOR DETAILED DIAGNOSTIC INFORMATION, INFO FOR GENERAL INFORMATION, WARNING FOR POTENTIAL ISSUES, ERROR FOR ERRORS THAT PREVENT THE PROGRAM FROM CONTINUING, AND CRITICAL FOR SEVERE ERRORS THAT MAY CAUSE THE PROGRAM TO TERMINATE.\n",
    "  # SYNTAX\n",
    "  ```PYTHON\n",
    "  IMPORT LOGGING\n",
    "  LOGGING.BASICCONFIG(LEVEL=LOGGING.DEBUG)\n",
    "  LOGGING.DEBUG('DEBUG MESSAGE')\n",
    "  ```\n",
    "-----------------------------------------------------------------\n",
    "Q18. WHAT IS THE DIFFERENCE BETWEEN `OS.FORK()` AND MULTIPROCESSING IN PYTHON?\n",
    "- **OS.FORK():** CREATES A NEW PROCESS BY DUPLICATING THE CURRENT PROCESS. IT IS AVAILABLE ON UNIX-LIKE SYSTEMS AND IS USEFUL FOR CREATING CHILD PROCESSES THAT RUN CONCURRENTLY WITH THE PARENT PROCESS. HOWEVER, IT CAN BE COMPLEX TO MANAGE AND IS NOT AVAILABLE ON ALL PLATFORMS.\n",
    "- **MULTIPROCESSING:** MODULE TO CREATE PROCESSES WITH SEPARATE MEMORY SPACE, PROVIDING A HIGHER-LEVEL INTERFACE FOR PROCESS CREATION AND MANAGEMENT. THE MULTIPROCESSING MODULE IS PLATFORM-INDEPENDENT AND PROVIDES A SIMPLER AND MORE FLEXIBLE WAY TO CREATE AND MANAGE PROCESSES, MAKING IT EASIER TO WRITE CROSS-PLATFORM CODE.\n",
    "  # SYNTAX\n",
    "  ```PYTHON\n",
    "  IMPORT OS\n",
    "  PID = OS.FORK()\n",
    "  ```\n",
    "-----------------------------------------------------------------\n",
    "Q19. WHAT IS THE IMPORTANCE OF CLOSING A FILE IN PYTHON?\n",
    "- CLOSING A FILE ENSURES THAT DATA IS WRITTEN AND RESOURCES ARE RELEASED, PREVENTING DATA CORRUPTION AND RESOURCE LEAKS. IT IS A CRUCIAL STEP IN FILE HANDLING TO MAINTAIN DATA INTEGRITY AND SYSTEM STABILITY. WHEN A FILE IS CLOSED, ANY BUFFERED DATA IS WRITTEN TO THE FILE, AND THE FILE DESCRIPTOR IS RELEASED, MAKING IT AVAILABLE FOR OTHER PROCESSES. FAILING TO CLOSE A FILE CAN LEAD TO DATA LOSS, RESOURCE EXHAUSTION, AND OTHER ISSUES.\n",
    "  # SYNTAX\n",
    "  ```PYTHON\n",
    "  FILE = OPEN('FILE.TXT', 'R')\n",
    "  FILE.CLOSE()\n",
    "  ```\n",
    "-----------------------------------------------------------------\n",
    "Q20. WHAT IS THE DIFFERENCE BETWEEN `FILE.READ()` AND `FILE.READLINE()` IN PYTHON?\n",
    "- **FILE.READ():** READS THE ENTIRE FILE INTO A SINGLE STRING. THIS METHOD IS USEFUL FOR READING SMALL FILES THAT CAN BE EASILY LOADED INTO MEMORY.\n",
    "- **FILE.READLINE():** READS ONE LINE AT A TIME, MAKING IT SUITABLE FOR PROCESSING LARGE FILES LINE-BY-LINE. THIS METHOD IS USEFUL FOR READING LARGE FILES THAT CANNOT BE LOADED INTO MEMORY ALL AT ONCE, ALLOWING THE PROGRAM TO PROCESS EACH LINE INDIVIDUALLY.\n",
    "  # SYNTAX\n",
    "  ```PYTHON\n",
    "  WITH OPEN('FILE.TXT', 'R') AS FILE:\n",
    "      CONTENT = FILE.READ()\n",
    "      LINE = FILE.READLINE()\n",
    "  ```\n",
    "-----------------------------------------------------------------\n",
    "Q21. WHAT IS THE LOGGING MODULE IN PYTHON USED FOR?\n",
    "- THE LOGGING MODULE PROVIDES A FLEXIBLE FRAMEWORK FOR EMITTING LOG MESSAGES FROM PYTHON PROGRAMS, AIDING IN DEBUGGING AND MONITORING. IT ALLOWS DEVELOPERS TO TRACK THE FLOW OF THE PROGRAM AND IDENTIFY ISSUES. THE LOGGING MODULE SUPPORTS DIFFERENT LOG LEVELS, OUTPUT FORMATS, AND DESTINATIONS, MAKING IT A POWERFUL TOOL FOR MANAGING LOG MESSAGES IN PYTHON APPLICATIONS.\n",
    "  # SYNTAX\n",
    "  ```PYTHON\n",
    "  IMPORT LOGGING\n",
    "  LOGGING.BASICCONFIG(LEVEL=LOGGING.INFO)\n",
    "  LOGGING.INFO('THIS IS AN INFO MESSAGE')\n",
    "  ```\n",
    "-----------------------------------------------------------------\n",
    "Q22. WHAT IS THE OS MODULE IN PYTHON USED FOR IN FILE HANDLING?\n",
    "- THE OS MODULE PROVIDES FUNCTIONS TO INTERACT WITH THE OPERATING SYSTEM, SUCH AS FILE OPERATIONS, DIRECTORY MANAGEMENT, AND PROCESS HANDLING. IT IS ESSENTIAL FOR PERFORMING SYSTEM-LEVEL TASKS IN PYTHON. THE OS MODULE ALLOWS DEVELOPERS TO PERFORM TASKS LIKE CREATING, DELETING, AND RENAMING FILES AND DIRECTORIES, AS WELL AS MANAGING FILE PERMISSIONS AND ATTRIBUTES.\n",
    "  # SYNTAX\n",
    "  ```PYTHON\n",
    "  IMPORT OS\n",
    "  OS.REMOVE('FILE.TXT')\n",
    "  ```\n",
    "-----------------------------------------------------------------\n",
    "Q23. WHAT ARE THE CHALLENGES ASSOCIATED WITH MEMORY MANAGEMENT IN PYTHON?\n",
    "- CHALLENGES INCLUDE HANDLING MEMORY LEAKS, FRAGMENTATION, AND ENSURING EFFICIENT MEMORY USE TO MAINTAIN APPLICATION PERFORMANCE. PROPER MEMORY MANAGEMENT IS CRUCIAL FOR THE STABILITY AND EFFICIENCY OF APPLICATIONS. MEMORY LEAKS OCCUR WHEN OBJECTS ARE NOT PROPERLY DEALLOCATED, LEADING TO INCREASED MEMORY USAGE OVER TIME. FRAGMENTATION OCCURS WHEN MEMORY IS ALLOCATED AND DEALLOCATED IN A WAY THAT LEAVES GAPS, REDUCING THE EFFICIENCY OF MEMORY USAGE.\n",
    "  # SYNTAX\n",
    "  ```PYTHON\n",
    "  IMPORT GC\n",
    "  GC.COLLECT()\n",
    "  ```\n",
    "-----------------------------------------------------------------\n",
    "Q24. HOW DO YOU RAISE AN EXCEPTION MANUALLY IN PYTHON?\n",
    "- USE THE `RAISE` STATEMENT WITH AN EXCEPTION TO MANUALLY RAISE AN ERROR. THIS ALLOWS FOR CUSTOM ERROR HANDLING AND CAN BE USED TO ENFORCE CERTAIN CONDITIONS IN THE CODE. RAISING EXCEPTIONS MANUALLY CAN HELP ENSURE THAT THE PROGRAM BEHAVES AS EXPECTED AND CAN PROVIDE MEANINGFUL ERROR MESSAGES TO USERS AND DEVELOPERS.\n",
    "  # SYNTAX\n",
    "  ```PYTHON\n",
    "  RAISE VALUEERROR(\"AN ERROR OCCURRED\")\n",
    "  ```\n",
    "-----------------------------------------------------------------\n",
    "Q25. WHY IS IT IMPORTANT TO USE MULTITHREADING IN CERTAIN APPLICATIONS?\n",
    "- MULTITHREADING IMPROVES PERFORMANCE BY ALLOWING CONCURRENT EXECUTION OF TASKS, MAKING APPLICATIONS MORE RESPONSIVE AND EFFICIENT. IT IS PARTICULARLY USEFUL FOR I/O-BOUND TASKS WHERE WAITING FOR EXTERNAL RESOURCES CAN BE PARALLELIZED. BY USING MULTIPLE THREADS, AN APPLICATION CAN PERFORM MULTIPLE TASKS SIMULTANEOUSLY, IMPROVING OVERALL PERFORMANCE AND RESPONSIVENESS.\n",
    "  # SYNTAX\n",
    "  ```PYTHON\n",
    "  IMPORT THREADING\n",
    "  DEF TASK():\n",
    "      PRINT('TASK EXECUTED')\n",
    "  THREAD = THREADING.THREAD(TARGET=TASK)\n",
    "  THREAD.START()\n",
    "  ```\n",
    "-----------------------------------------------------------------\n"
   ]
  },
  {
   "cell_type": "markdown",
   "metadata": {
    "id": "1T-DpmKCPITD"
   },
   "source": [
    "# PRACTICAL QUESTIONS\n"
   ]
  },
  {
   "cell_type": "code",
   "execution_count": 1,
   "metadata": {
    "id": "5LD_4BC0Rk2Y"
   },
   "outputs": [],
   "source": [
    "# Practical question\n",
    "'''\n",
    "Q1. How can you open a file for writing in Python and write a string to it?\n",
    "\n",
    "'''\n",
    "'''\n",
    "Answer:-1\n",
    "'''\n",
    "with open('myfile.txt', 'w') as file:\n",
    "    # Write a string to the file\n",
    "    file.write(\"HI MY NAME IS AVINESH MASIH\\n\")\n",
    "    file.write(\"THIS IS MY ASSIGNMENT FOR PWSKILLS\\n\")\n"
   ]
  },
  {
   "cell_type": "code",
   "execution_count": 2,
   "metadata": {
    "colab": {
     "base_uri": "https://localhost:8080/"
    },
    "id": "q4Ulj2nmRj1p",
    "outputId": "208a19e2-b4c9-4d0b-9ca6-e85be2ac75c1"
   },
   "outputs": [
    {
     "name": "stdout",
     "output_type": "stream",
     "text": [
      "HI MY NAME IS AVINESH MASIH\n",
      "THIS IS MY ASSIGNMENT FOR PWSKILLS\n"
     ]
    }
   ],
   "source": [
    "# Practical question\n",
    "'''\n",
    "Q2. Write a Python program to read the contents of a file and print each line.\n",
    "\n",
    "'''\n",
    "'''\n",
    "Answer:-2\n",
    "'''\n",
    "# i will be using `myfile.txt` for the content so that i have to not call or write again and again\n",
    "with open('myfile.txt', 'r') as file:\n",
    "    for line in file:\n",
    "        print(line, end='')\n"
   ]
  },
  {
   "cell_type": "code",
   "execution_count": 3,
   "metadata": {
    "colab": {
     "base_uri": "https://localhost:8080/"
    },
    "id": "6VfKm-ODRjxH",
    "outputId": "896a70a6-7ed5-433b-f8a4-ff9f4d2819d0"
   },
   "outputs": [
    {
     "name": "stdout",
     "output_type": "stream",
     "text": [
      "Opps!!! The file 'answer3.txt' does not exist.\n"
     ]
    }
   ],
   "source": [
    "# Practical question\n",
    "'''\n",
    "Q3. How would you handle a case where the file doesn't exist while trying to open it for reading?\n",
    "\n",
    "'''\n",
    "'''\n",
    "Answer:-3\n",
    "'''\n",
    "file_path = 'answer3.txt'\n",
    "\n",
    "try:\n",
    "    with open(file_path, 'r') as file:\n",
    "        for line in file:\n",
    "            print(line, end='')\n",
    "except FileNotFoundError:\n",
    "    print(f\"Opps!!! The file '{file_path}' does not exist.\")\n"
   ]
  },
  {
   "cell_type": "code",
   "execution_count": 4,
   "metadata": {
    "colab": {
     "base_uri": "https://localhost:8080/"
    },
    "id": "fxJDuBBDRjse",
    "outputId": "22cb4641-0b75-417f-f1c8-70515ca33ba7"
   },
   "outputs": [
    {
     "name": "stdout",
     "output_type": "stream",
     "text": [
      "Content copied from 'myfile.txt' to 'destination.txt' successfully.\n"
     ]
    }
   ],
   "source": [
    "# Practical question\n",
    "'''\n",
    "Q4. Write a Python script that reads from one file and writes its content to another file.\n",
    "\n",
    "'''\n",
    "'''\n",
    "Answer:-4\n",
    "'''\n",
    "\n",
    "source_file_path = 'myfile.txt'\n",
    "destination_file_path = 'destination.txt'\n",
    "\n",
    "try:\n",
    "    with open(source_file_path, 'r') as source_file:\n",
    "        content = source_file.read()\n",
    "\n",
    "    with open(destination_file_path, 'w') as destination_file:\n",
    "        destination_file.write(content)\n",
    "\n",
    "    print(f\"Content copied from '{source_file_path}' to '{destination_file_path}' successfully.\")\n",
    "except FileNotFoundError:\n",
    "    print(f\"Error: The file '{source_file_path}' does not exist.\")\n",
    "except Exception as e:\n",
    "    print(f\"An error occurred: {e}\")\n"
   ]
  },
  {
   "cell_type": "code",
   "execution_count": 5,
   "metadata": {
    "colab": {
     "base_uri": "https://localhost:8080/"
    },
    "id": "C7R5PQXRRjoH",
    "outputId": "67f2f2df-a7ae-4554-8d02-22ea4b5c6271"
   },
   "outputs": [
    {
     "name": "stdout",
     "output_type": "stream",
     "text": [
      "Error: Sorry!! Division by zero is not allowed.\n"
     ]
    }
   ],
   "source": [
    "# Practical question\n",
    "'''\n",
    "Q5. How would you catch and handle division by zero error in Python?\n",
    "\n",
    "'''\n",
    "'''\n",
    "Answer:-5\n",
    "'''\n",
    "try:\n",
    "    numerator = 50\n",
    "    denominator = 0\n",
    "    result = numerator / denominator\n",
    "    print(f\"The result is {result}\")\n",
    "except ZeroDivisionError:\n",
    "    print(\"Error: Sorry!! Division by zero is not allowed.\")"
   ]
  },
  {
   "cell_type": "code",
   "execution_count": 6,
   "metadata": {
    "colab": {
     "base_uri": "https://localhost:8080/"
    },
    "id": "utDuWIj9Rjkk",
    "outputId": "34633521-a0c4-4f8a-d41a-31ced51083a4"
   },
   "outputs": [
    {
     "name": "stderr",
     "output_type": "stream",
     "text": [
      "ERROR:root:Division by zero is not allowed.\n"
     ]
    }
   ],
   "source": [
    "# Practical question\n",
    "'''\n",
    "Q6. Write a Python program that logs an error message to a log file when a division by zero exception occurs.\n",
    "\n",
    "'''\n",
    "'''\n",
    "Answer:-6\n",
    "'''\n",
    "import logging\n",
    "\n",
    "# Configure logging\n",
    "logging.basicConfig(filename='error.log', level=logging.ERROR)\n",
    "\n",
    "def divide(numerator, denominator):\n",
    "    try:\n",
    "        result = numerator / denominator\n",
    "        return result\n",
    "    except ZeroDivisionError:\n",
    "        logging.error(\"Division by zero is not allowed.\")\n",
    "        return None\n",
    "divide(40,0)\n"
   ]
  },
  {
   "cell_type": "code",
   "execution_count": 7,
   "metadata": {
    "colab": {
     "base_uri": "https://localhost:8080/"
    },
    "id": "wVdW05t4RjfS",
    "outputId": "1c8d2f94-e28d-4d78-bf2c-50fd70770d0f"
   },
   "outputs": [
    {
     "name": "stderr",
     "output_type": "stream",
     "text": [
      "WARNING:root:This is a warning message about potential issues.\n",
      "ERROR:root:This is an error message for failed operations.\n"
     ]
    }
   ],
   "source": [
    "# Practical question\n",
    "'''\n",
    "Q7. How do you log information at different levels (INFO, ERROR, WARNING) in Python using the logging module?\n",
    "\n",
    "'''\n",
    "'''\n",
    "Answer:-7\n",
    "'''\n",
    "import logging\n",
    "\n",
    "# Configure logging\n",
    "logging.basicConfig(filename='app.log',level=logging.DEBUG, format='%(asctime)s - %(levelname)s - %(message)s')\n",
    "\n",
    "logging.info(\"This is an informational message to indicate normal operation.\")\n",
    "logging.warning(\"This is a warning message about potential issues.\")\n",
    "logging.error(\"This is an error message for failed operations.\")\n"
   ]
  },
  {
   "cell_type": "code",
   "execution_count": 8,
   "metadata": {
    "colab": {
     "base_uri": "https://localhost:8080/"
    },
    "id": "5IKCPrwbRjay",
    "outputId": "e2e2fd88-d81f-43e8-c3c7-7bd235a0334d"
   },
   "outputs": [
    {
     "name": "stdout",
     "output_type": "stream",
     "text": [
      "HI MY NAME IS AVINESH MASIH\n",
      "THIS IS MY ASSIGNMENT FOR PWSKILLS\n",
      "\n",
      "Error: File 'mfile.txt' not found.\n"
     ]
    }
   ],
   "source": [
    "# Practical question\n",
    "'''\n",
    "Q8. Write a program to handle a file opening error using exception handling.\n",
    "\n",
    "'''\n",
    "'''\n",
    "Answer:-8\n",
    "'''\n",
    "def file_handling_example(filename):\n",
    "    try:\n",
    "        with open(filename, 'r') as file:\n",
    "            contents = file.read()\n",
    "            print(contents)\n",
    "    except FileNotFoundError:\n",
    "        print(f\"Error: File '{filename}' not found.\")\n",
    "    except Exception as e:\n",
    "        print(f\"An unexpected error occurred: {e}\")\n",
    "\n",
    "file_handling_example('myfile.txt') #in this the file is existing\n",
    "file_handling_example('mfile.txt') #in this the file is not existing"
   ]
  },
  {
   "cell_type": "code",
   "execution_count": 9,
   "metadata": {
    "colab": {
     "base_uri": "https://localhost:8080/"
    },
    "id": "6D0UFv0JRjVq",
    "outputId": "756f11d7-b6cc-42c8-8909-d7c7f08ff2e9"
   },
   "outputs": [
    {
     "name": "stdout",
     "output_type": "stream",
     "text": [
      "['HI MY NAME IS AVINESH MASIH', 'THIS IS MY ASSIGNMENT FOR PWSKILLS']\n"
     ]
    }
   ],
   "source": [
    "# Practical question\n",
    "'''\n",
    "Q9. How can you read a file line by line and store its content in a list in Python?\n",
    "\n",
    "'''\n",
    "'''\n",
    "Answer:-9\n",
    "'''\n",
    "file_path = 'myfile.txt'\n",
    "\n",
    "lines = []\n",
    "with open(file_path, 'r') as file:\n",
    "    for line in file:\n",
    "        lines.append(line.strip())\n",
    "\n",
    "print(lines)\n",
    "\n"
   ]
  },
  {
   "cell_type": "code",
   "execution_count": 10,
   "metadata": {
    "id": "m-0LlPsxRjQ6"
   },
   "outputs": [],
   "source": [
    "# Practical question\n",
    "'''\n",
    "Q10. How can you append data to an existing file in Python?\n",
    "\n",
    "'''\n",
    "'''\n",
    "Answer:-10\n",
    "'''\n",
    "with open('myfile.txt', 'a') as file:\n",
    "    file.write(\"This is appended text.\\n\")\n",
    "    file.write(\"This is question number 10.\\n\")"
   ]
  },
  {
   "cell_type": "code",
   "execution_count": 11,
   "metadata": {
    "colab": {
     "base_uri": "https://localhost:8080/"
    },
    "id": "kLekFK2_RjLW",
    "outputId": "11ece021-757f-4c59-ac45-bd99116aba7d"
   },
   "outputs": [
    {
     "name": "stdout",
     "output_type": "stream",
     "text": [
      "Error: The key 'country' does not exist in the dictionary.\n",
      "Key 'country' was not found.\n"
     ]
    }
   ],
   "source": [
    "# Practical question\n",
    "'''\n",
    "Q11. Write a Python program that uses a try-except block to handle an error when attempting to access a dictionary key that doesn't exist.\n",
    "\n",
    "'''\n",
    "'''\n",
    "Answer:-11\n",
    "'''\n",
    "data = {\"name\": \"AVINESH\", \"age\": 21, \"city\": \"LUCKNOW\"}\n",
    "\n",
    "def val(dictionary, key):\n",
    "    try:\n",
    "        value = dictionary[key]\n",
    "        return value\n",
    "    except KeyError:\n",
    "        print(f\"Error: The key '{key}' does not exist in the dictionary.\")\n",
    "        return None\n",
    "\n",
    "key_to_look = \"country\"\n",
    "result = val(data, key_to_look)\n",
    "\n",
    "#this line of code i'm writing in the where key is existing in the dictionary\n",
    "if result is not None:\n",
    "    print(f\"The value for key '{key_to_look}' is: {result}\")\n",
    "else:\n",
    "    print(f\"Key '{key_to_look}' was not found.\")\n",
    "\n"
   ]
  },
  {
   "cell_type": "code",
   "execution_count": 12,
   "metadata": {
    "colab": {
     "base_uri": "https://localhost:8080/"
    },
    "id": "xkW2mkP9RjCy",
    "outputId": "45b12fa3-6554-4ebf-dd0a-d282603a57e6"
   },
   "outputs": [
    {
     "name": "stdout",
     "output_type": "stream",
     "text": [
      "Enter a number: 40\n",
      "The result of 10 divided by 40 is 0.25\n",
      "Enter a key to access the dictionary: age\n",
      "Error: The specified key does not exist in the dictionary.\n"
     ]
    }
   ],
   "source": [
    "# Practical question\n",
    "'''\n",
    "Q12. Write a program that demonstrates using multiple except blocks to handle different types of exceptions.\n",
    "\n",
    "'''\n",
    "'''\n",
    "Answer:-12\n",
    "'''\n",
    "def handle_exceptions():\n",
    "    try:\n",
    "        num = int(input(\"Enter a number: \"))\n",
    "        result = 10 / num\n",
    "        print(f\"The result of 10 divided by {num} is {result}\")\n",
    "\n",
    "        my_dict = {\"a\": 21, \"b\": 50}\n",
    "        key = input(\"Enter a key to access the dictionary: \")\n",
    "        value = my_dict[key]\n",
    "        print(f\"The value for the key '{key}' is {value}\")\n",
    "\n",
    "    except ZeroDivisionError:\n",
    "        print(\"Error: Division by zero is not allowed.\")\n",
    "    except ValueError:\n",
    "        print(\"Error: Invalid input. Please enter a valid number.\")\n",
    "    except KeyError:\n",
    "        print(\"Error: The specified key does not exist in the dictionary.\")\n",
    "    except Exception as e:\n",
    "        print(f\"An unexpected error occurred: {e}\")\n",
    "\n",
    "handle_exceptions()\n"
   ]
  },
  {
   "cell_type": "code",
   "execution_count": 13,
   "metadata": {
    "colab": {
     "base_uri": "https://localhost:8080/"
    },
    "id": "MJzV5FWkRi-q",
    "outputId": "4d257141-3f6b-447b-c418-001c58b386ff"
   },
   "outputs": [
    {
     "name": "stdout",
     "output_type": "stream",
     "text": [
      "The file 'mfile.txt' does not exist.\n"
     ]
    }
   ],
   "source": [
    "# Practical question\n",
    "'''\n",
    "Q13. How would you check if a file exists before attempting to read it in Python?\n",
    "\n",
    "'''\n",
    "'''\n",
    "Answer:-13\n",
    "'''\n",
    "import os\n",
    "\n",
    "file_path = \"mfile.txt\"\n",
    "\n",
    "if os.path.exists(file_path):\n",
    "    with open(file_path, 'r') as file:\n",
    "        content = file.read()\n",
    "        print(\"File content:\")\n",
    "        print(content)\n",
    "else:\n",
    "    print(f\"The file '{file_path}' does not exist.\")\n"
   ]
  },
  {
   "cell_type": "code",
   "execution_count": 14,
   "metadata": {
    "colab": {
     "base_uri": "https://localhost:8080/"
    },
    "id": "XkWTh1h7Ri2n",
    "outputId": "18c2e893-081c-4034-dcaf-c0f5eca04f90"
   },
   "outputs": [
    {
     "name": "stderr",
     "output_type": "stream",
     "text": [
      "ERROR:root:Error: Division by zero is not allowed. Numerator: 40, Denominator: 0\n",
      "ERROR:root:An unexpected error occurred: unsupported operand type(s) for /: 'int' and 'str'\n"
     ]
    }
   ],
   "source": [
    "# Practical question\n",
    "'''\n",
    "Q14. Write a program that uses the logging module to log both informational and error messages.\n",
    "\n",
    "'''\n",
    "'''\n",
    "Answer:-14\n",
    "'''\n",
    "import logging\n",
    "logging.basicConfig(filename='my_app.log', level=logging.DEBUG,format='%(asctime)s - %(levelname)s - %(message)s',handlers=[logging.StreamHandler()])\n",
    "\n",
    "def divide_numbers(numerator, denominator):\n",
    "    try:\n",
    "        logging.info(\"Attempting to divide %s by %s.\", numerator, denominator)\n",
    "        result = numerator / denominator\n",
    "        logging.info(\"Division successful. Result: %s\", result)\n",
    "        return result\n",
    "    except ZeroDivisionError:\n",
    "        logging.error(\"Error: Division by zero is not allowed. Numerator: %s, Denominator: %s\", numerator, denominator)\n",
    "        return None\n",
    "    except Exception as e:\n",
    "        logging.error(\"An unexpected error occurred: %s\", e)\n",
    "        return None\n",
    "\n",
    "\n",
    "logging.info(\"Program started.\")\n",
    "divide_numbers(50, 2)  # Successful division\n",
    "divide_numbers(40, 0)  # Division by zero error\n",
    "divide_numbers(11, 'a')  # Invalid input\n",
    "logging.info(\"Program ended.\")\n"
   ]
  },
  {
   "cell_type": "code",
   "execution_count": 17,
   "metadata": {
    "colab": {
     "base_uri": "https://localhost:8080/"
    },
    "id": "gMaJnx1wRix2",
    "outputId": "72959f87-b50a-4ca1-fd02-488867e8a0e7"
   },
   "outputs": [
    {
     "name": "stdout",
     "output_type": "stream",
     "text": [
      "The file is empty.\n"
     ]
    }
   ],
   "source": [
    "# Practical question\n",
    "'''\n",
    "Q15. Write a Python program that prints the content of a file and handles the case when the file is empty.\n",
    "\n",
    "'''\n",
    "'''\n",
    "Answer:-15\n",
    "'''\n",
    "\n",
    "#creating empty file\n",
    "with open('myfile.txt', 'w') as file:\n",
    "  file.write(\"\")\n",
    "  file.close()\n",
    "def print_file_content(filename):\n",
    "    try:\n",
    "        with open(filename, 'r') as file:\n",
    "            content = file.read()\n",
    "            if not content:\n",
    "                print(\"The file is empty.\")\n",
    "            else:\n",
    "                print(content)\n",
    "    except FileNotFoundError:\n",
    "        print(f\"Error: File '{filename}' not found.\")\n",
    "\n",
    "# Example usage\n",
    "print_file_content('myfile.txt')"
   ]
  },
  {
   "cell_type": "code",
   "execution_count": 35,
   "metadata": {
    "colab": {
     "base_uri": "https://localhost:8080/"
    },
    "id": "kCXcbQM3Ritl",
    "outputId": "56172b64-05fd-41bf-ece1-3ac845c08f21"
   },
   "outputs": [
    {
     "name": "stdout",
     "output_type": "stream",
     "text": [
      "Requirement already satisfied: memory-profiler in /usr/local/lib/python3.10/dist-packages (0.61.0)\n",
      "Requirement already satisfied: psutil in /usr/local/lib/python3.10/dist-packages (from memory-profiler) (5.9.5)\n",
      "ERROR: Could not find file <ipython-input-35-f21129a5b0f0>\n",
      "NOTE: %mprun can only be used on functions defined in physical files, and not in the IPython environment.\n"
     ]
    }
   ],
   "source": [
    "# Practical question\n",
    "'''\n",
    "Q16. Demonstrate how to use memory profiling to check the memory usage of a small program.\n",
    "\n",
    "'''\n",
    "'''\n",
    "Answer:-16\n",
    "'''\n",
    "!pip install memory-profiler\n",
    "from memory_profiler import profile\n",
    "\n",
    "@profile\n",
    "def simple_function():\n",
    "    a = [i for i in range(100000)]  # Create a large list\n",
    "    b = sum(a)  # Calculate the sum of the list\n",
    "    return b\n",
    "\n",
    "if __name__ == \"__main__\":\n",
    "    simple_function()"
   ]
  },
  {
   "cell_type": "code",
   "execution_count": 18,
   "metadata": {
    "colab": {
     "base_uri": "https://localhost:8080/"
    },
    "id": "90qEFXvaRipB",
    "outputId": "b4c30cf1-b7ad-484c-e633-2192eff89abf"
   },
   "outputs": [
    {
     "name": "stdout",
     "output_type": "stream",
     "text": [
      "Numbers successfully written to 'numbers.txt'.\n"
     ]
    }
   ],
   "source": [
    "# Practical question\n",
    "'''\n",
    "Q17. Write a Python program to create and write a list of numbers to a file, one number per line.\n",
    "\n",
    "'''\n",
    "'''\n",
    "Answer:-17\n",
    "'''\n",
    "def write_numbers_to_file(numbers, filename):\n",
    "    try:\n",
    "        with open(filename, 'w') as file:\n",
    "            for number in numbers:\n",
    "                file.write(str(number) + '\\n')\n",
    "        print(f\"Numbers successfully written to '{filename}'.\")\n",
    "    except Exception as e:\n",
    "        print(f\"An error occurred: {e}\")\n",
    "\n",
    "numbers = [1, 2, 3, 4, 5]\n",
    "filename = 'numbers.txt'\n",
    "write_numbers_to_file(numbers, filename)"
   ]
  },
  {
   "cell_type": "code",
   "execution_count": 27,
   "metadata": {
    "colab": {
     "base_uri": "https://localhost:8080/"
    },
    "id": "8gwVgHI_Rij-",
    "outputId": "9c411d90-6e58-4973-b4fe-0e58316639ca"
   },
   "outputs": [
    {
     "name": "stderr",
     "output_type": "stream",
     "text": [
      "INFO:root:This is an informational message.\n",
      "DEBUG:root:This is a debug message.\n",
      "WARNING:root:This is a warning message.\n",
      "ERROR:root:This is an error message.\n",
      "CRITICAL:root:This is a critical message.\n"
     ]
    },
    {
     "name": "stdout",
     "output_type": "stream",
     "text": [
      "Logging setup complete. Check the log file for messages.\n"
     ]
    }
   ],
   "source": [
    "# Practical question\n",
    "'''\n",
    "Q18. How would you implement a basic logging setup that logs to a file with rotation after 1MB?\n",
    "\n",
    "'''\n",
    "'''\n",
    "Answer:-18\n",
    "'''\n",
    "import logging\n",
    "from logging.handlers import RotatingFileHandler\n",
    "\n",
    "log_file = 'app.log'\n",
    "log_formatter = logging.Formatter('%(asctime)s - %(levelname)s - %(message)s')\n",
    "\n",
    "handler = RotatingFileHandler(log_file, maxBytes=1*1024*1024, backupCount=5)\n",
    "handler.setFormatter(log_formatter)\n",
    "\n",
    "logger = logging.getLogger()\n",
    "logger.setLevel(logging.DEBUG)\n",
    "logger.addHandler(handler)\n",
    "\n",
    "def main():\n",
    "    logger.info(\"This is an informational message.\")\n",
    "    logger.debug(\"This is a debug message.\")\n",
    "    logger.warning(\"This is a warning message.\")\n",
    "    logger.error(\"This is an error message.\")\n",
    "    logger.critical(\"This is a critical message.\")\n",
    "\n",
    "if __name__ == \"__main__\":\n",
    "    main()\n",
    "    print(\"Logging setup complete. Check the log file for messages.\")"
   ]
  },
  {
   "cell_type": "code",
   "execution_count": 26,
   "metadata": {
    "colab": {
     "base_uri": "https://localhost:8080/"
    },
    "id": "FH7Afho7RifK",
    "outputId": "58ca5396-596e-4a41-ce89-f70d81782a6f"
   },
   "outputs": [
    {
     "name": "stdout",
     "output_type": "stream",
     "text": [
      "Error: List index out of range.\n",
      "Error: The specified key does not exist in the dictionary.\n"
     ]
    }
   ],
   "source": [
    "# Practical question\n",
    "'''\n",
    "Q19. Write a program that handles both IndexError and KeyError using a try-except block.\n",
    "\n",
    "'''\n",
    "'''\n",
    "Answer:-19\n",
    "'''\n",
    "my_list = [1, 2, 3]\n",
    "my_dict = {\"a\": 1, \"b\": 2}\n",
    "\n",
    "try:\n",
    "    print(my_list[5])\n",
    "except IndexError:\n",
    "    print(\"Error: List index out of range.\")\n",
    "\n",
    "try:\n",
    "    value = my_dict[\"c\"]\n",
    "    print(value)\n",
    "except KeyError:\n",
    "    print(\"Error: The specified key does not exist in the dictionary.\")"
   ]
  },
  {
   "cell_type": "code",
   "execution_count": 24,
   "metadata": {
    "colab": {
     "base_uri": "https://localhost:8080/"
    },
    "id": "WD8M7daiRiaE",
    "outputId": "9c138574-8c39-4212-bf7a-576b337653ba"
   },
   "outputs": [
    {
     "name": "stdout",
     "output_type": "stream",
     "text": [
      "HI MY NAME IS AVINESH MASIH\n",
      "THIS IS MY ASSIGNMENT FOR PWSKILLS\n",
      "\n"
     ]
    }
   ],
   "source": [
    "# Practical question\n",
    "'''\n",
    "Q20. How would you open a file and read its contents using a context manager in Python?\n",
    "\n",
    "'''\n",
    "'''\n",
    "Answer:-20\n",
    "'''\n",
    "file_path = \"destination.txt\"\n",
    "\n",
    "with open(file_path, 'r') as file:\n",
    "    content = file.read()\n",
    "\n",
    "print(content)\n",
    "\n"
   ]
  },
  {
   "cell_type": "code",
   "execution_count": 23,
   "metadata": {
    "colab": {
     "base_uri": "https://localhost:8080/"
    },
    "id": "AsW1LJ2IRiTj",
    "outputId": "5c43b8ce-a5ff-490f-e4e7-b237f78f50df"
   },
   "outputs": [
    {
     "name": "stdout",
     "output_type": "stream",
     "text": [
      "The word 'AVINESH' appears 1 times in the file.\n"
     ]
    }
   ],
   "source": [
    "# Practical question\n",
    "'''\n",
    "Q21. Write a Python program that reads a file and prints the number of occurrences of a specific word.\n",
    "\n",
    "'''\n",
    "'''\n",
    "Answer:-21\n",
    "'''\n",
    "def count_word_occurrences(filename, word):\n",
    "    \"\"\"Counts the occurrences of a specific word in a file.\n",
    "\n",
    "    Args:\n",
    "        filename: The name of the file to read.\n",
    "        word: The word to count occurrences of.\n",
    "\n",
    "    Returns:\n",
    "        The number of times the word appears in the file, or -1 if the file\n",
    "        is not found.\n",
    "    \"\"\"\n",
    "    try:\n",
    "        with open(filename, 'r') as file:\n",
    "            content = file.read()\n",
    "            occurrences = content.lower().count(word.lower())  # Case-insensitive count\n",
    "            return occurrences\n",
    "    except FileNotFoundError:\n",
    "        print(f\"Error: File '{filename}' not found.\")\n",
    "        return -1\n",
    "\n",
    "# Example usage:\n",
    "filename = \"destination.txt\"\n",
    "word_to_count = \"AVINESH\"\n",
    "count = count_word_occurrences(filename, word_to_count)\n",
    "\n",
    "if count != -1:\n",
    "    print(f\"The word '{word_to_count}' appears {count} times in the file.\")"
   ]
  },
  {
   "cell_type": "code",
   "execution_count": 19,
   "metadata": {
    "colab": {
     "base_uri": "https://localhost:8080/"
    },
    "id": "-pRr77teRiND",
    "outputId": "9cbef66e-987a-4047-b2bc-1be6eb423bf4"
   },
   "outputs": [
    {
     "name": "stdout",
     "output_type": "stream",
     "text": [
      "1\n",
      "2\n",
      "3\n",
      "4\n",
      "5\n",
      "\n"
     ]
    }
   ],
   "source": [
    "# Practical question\n",
    "'''\n",
    "Q22. How can you check if a file is empty before attempting to read its contents?\n",
    "\n",
    "'''\n",
    "'''\n",
    "Answer:-22\n",
    "'''\n",
    "import os\n",
    "\n",
    "def print_file_content(filename):\n",
    "    if not os.path.exists(filename):\n",
    "        print(f\"Error: File '{filename}' not found.\")\n",
    "        return\n",
    "\n",
    "    try:\n",
    "        with open(filename, 'r') as file:\n",
    "            content = file.read()\n",
    "            if not content:\n",
    "                print(\"The file is empty.\")\n",
    "            else:\n",
    "                print(content)\n",
    "    except Exception as e:\n",
    "        print(f\"An error occurred while reading the file: {e}\")\n",
    "\n",
    "print_file_content('numbers.txt')\n"
   ]
  },
  {
   "cell_type": "code",
   "execution_count": 22,
   "metadata": {
    "colab": {
     "base_uri": "https://localhost:8080/"
    },
    "id": "XWBbsvthRiD-",
    "outputId": "fb19b559-67bd-48c3-d399-6ba750dea2e3"
   },
   "outputs": [
    {
     "name": "stderr",
     "output_type": "stream",
     "text": [
      "ERROR:root:Error: File 'destinatio.txt' not found.\n"
     ]
    }
   ],
   "source": [
    "# Practical question\n",
    "'''\n",
    "Q23. Write a Python program that writes to a log file when an error occurs during file handling.\n",
    "\n",
    "'''\n",
    "'''\n",
    "Answer:-23\n",
    "'''\n",
    "import logging\n",
    "logging.basicConfig(filename='file_handling.log', level=logging.ERROR,\n",
    "                    format='%(asctime)s - %(levelname)s - %(message)s')\n",
    "\n",
    "def process_file(filename):\n",
    "    try:\n",
    "        with open(filename, 'r') as file:\n",
    "            contents = file.read()\n",
    "            print(contents)\n",
    "    except FileNotFoundError:\n",
    "        logging.error(f\"Error: File '{filename}' not found.\")\n",
    "    except Exception as e:\n",
    "        logging.error(f\"An unexpected error occurred while processing '{filename}': {e}\")\n",
    "\n",
    "process_file('destinatio.txt')"
   ]
  }
 ],
 "metadata": {
  "colab": {
   "collapsed_sections": [
    "Yap-ISx7OXBV"
   ],
   "provenance": []
  },
  "kernelspec": {
   "display_name": "Python 3",
   "name": "python3"
  },
  "language_info": {
   "name": "python"
  }
 },
 "nbformat": 4,
 "nbformat_minor": 0
}
