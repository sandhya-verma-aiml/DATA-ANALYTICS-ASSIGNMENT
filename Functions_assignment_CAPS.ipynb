{
 "cells": [
  {
   "cell_type": "markdown",
   "metadata": {
    "id": "aQo3IuA0unUK"
   },
   "source": [
    "# THEORETICAL QUESTIONS"
   ]
  },
  {
   "cell_type": "markdown",
   "metadata": {
    "id": "T6iZjorMRcmQ"
   },
   "source": [
    "## FUNCTIONS ASSIGNMENT\n",
    "-----------------------------------------------------------------\n",
    "Q1. WHAT IS THE DIFFERENCE BETWEEN A FUNCTION AND A METHOD IN PYTHON?\n",
    "- FUNCTIONS ARE NOTHING BUT A BLOCK OF CODE WHICH PERFORMS A SPECIFIC TASK AND CAN BE CALLED AGAIN AND AGAIN AS PER REQUIREMENT IN THE CODE.\n",
    "- CHARACTERISTICS OF FUNCTIONS:\n",
    "    - SIMPLIFYING TASKS\n",
    "    - REUSABILITY\n",
    "    - KEEPING THINGS ORGANIZED\n",
    "    - DOES NOT REQUIRE AN OBJECT TO BE CALLED\n",
    "\n",
    "- A METHOD IS A FUNCTION THAT IS BOUND TO AN OBJECT AND IS DECLARED INSIDE A CLASS. METHODS TAKE ACTION ON THE OBJECT THEY ARE CALLED FROM AND MAY READ FROM, WRITE TO, OR UPDATE THE ATTRIBUTES AND STATE OF THE OBJECT.\n",
    "- CHARACTERISTICS OF A METHOD:\n",
    "    - DEFINED INSIDE A CLASS\n",
    "    - REQUIRES AN INSTANCE OF THE CLASS (OBJECT) TO BE CALLED\n",
    "    - CALLED USING AN OBJECT OR CLASS NAME\n",
    "\n",
    "              # EXAMPLE:\n",
    "              DEF TOTAL(A,B):\n",
    "              RETURN A+B\n",
    "              TOTAL(2,3) # CALL THE FUNCTION WITH ARGUMENTS\n",
    "          \n",
    "           # OUTPUT: 5\n",
    "\n",
    "-----------------------------------------------------------------\n",
    "Q2. EXPLAIN THE CONCEPT OF FUNCTION ARGUMENTS AND PARAMETERS IN PYTHON.\n",
    "- PARAMETERS ARE THE PLACEHOLDERS (VARIABLES) LISTED IN A FUNCTION DEFINITION. THEY DEFINE THE INPUT THAT THE FUNCTION EXPECTS. WHILE,\n",
    "- ARGUMENTS ARE THE ACTUAL VALUES PASSED TO THE FUNCTION WHEN IT IS CALLED.\n",
    "\n",
    "              # EXAMPLE:\n",
    "              DEF ADD(A, B):  \n",
    "                  RETURN A + B\n",
    "              RESULT = ADD(3, 5)\n",
    "              PRINT(RESULT)  \n",
    "              \n",
    "            # OUTPUT: 8\n",
    "\n",
    "HERE:\n",
    "    \n",
    "  - 'A' AND 'B' ARE PARAMETERS\n",
    "  - 3 AND 5 ARE ARGUMENTS\n",
    "\n",
    "\n",
    "\n",
    "-----------------------------------------------------------------\n",
    "Q3. WHAT ARE THE DIFFERENT WAYS TO DEFINE AND CALL A FUNCTION IN PYTHON?\n",
    "- WAYS TO DEFINE FUNCTIONS IN PYTHON:\n",
    "    - USING `DEF` KEYWORD\n",
    "    - FUNCTION WITH DEFAULT PARAMETERS\n",
    "    - FUNCTION WITH VARIABLE-LENGTH ARGUMENTS `*ARGS` AND `**KWARGS`\n",
    "    - `LAMBDA` FUNCTION\n",
    "    - NESTED FUNCTIONS\n",
    "\n",
    "- WAYS TO CALL FUNCTIONS IN PYTHON:\n",
    "    - CALLING A FUNCTION DIRECTLY\n",
    "              # EXAMPLE:\n",
    "              DEF A():\n",
    "              PRINT(\"CALLING A FUNCTION DIRECTLY!!\")\n",
    "              A()  \n",
    "            # OUTPUT: CALLING A FUNCTION DIRECTLY!!\n",
    "            \n",
    "    - CALLING A FUNCTION WITH ARGUMENTS\n",
    "              # EXAMPLE:\n",
    "              DEF ADD(A, B):\n",
    "              RETURN A + B\n",
    "              PRINT(ADD(3, 5))  \n",
    "            # OUTPUT: 8\n",
    "\n",
    "    - CALLING FUNCTIONS WITH DEFAULT VALUES\n",
    "              EXAMPLE:\n",
    "              DEF GREET(NAME=\"GUEST\"):\n",
    "              PRINT(F\"WELCOME, {NAME}!\")\n",
    "\n",
    "              GREET()            \n",
    "              GREET(\"AVINESH\")\n",
    "\n",
    "            # OUTPUT: WELCOME, GUEST!     \n",
    "            # OUTPUT: WELCOME, AVINESH!\n",
    "\n",
    "    - USING VARIABLE-LENGTH ARGUMENTS\n",
    "              # EXAMPLE:\n",
    "              DEF DISPLAY_INFO(*ARGS, **KWARGS):\n",
    "              PRINT(ARGS)       # TUPLE OF POSITIONAL ARGUMENTS\n",
    "              PRINT(KWARGS)     # DICTIONARY OF KEYWORD ARGUMENTS\n",
    "              DISPLAY_INFO(10, 20, 30, NAME=\"AVINESH\", AGE=21)\n",
    "          \n",
    "           # OUTPUT:\n",
    "          # (10, 20, 30)\n",
    "          # {'NAME': 'AVINESH', 'AGE': 21}\n",
    "\n",
    "    - CALLING A LAMBDA FUNCTION\n",
    "              # EXAMPLE:\n",
    "              SQUARE = LAMBDA X: X ** 2\n",
    "              PRINT(SQUARE(4))  \n",
    "          \n",
    "          # OUTPUT: 16\n",
    "\n",
    "\n",
    "\n",
    "-----------------------------------------------------------------\n",
    "Q4. WHAT IS THE PURPOSE OF THE `RETURN` STATEMENT IN A PYTHON FUNCTION?\n",
    "- A RETURN STATEMENT ENDS THE EXECUTION OF A FUNCTION, AND RETURNS CONTROL TO THE CALLING FUNCTION.\n",
    "- FUNCTIONS ARE NOTHING BUT A BLOCK OF CODE WHICH PERFORMS A SPECIFIC TASK AND CAN BE CALLED AGAIN AND AGAIN AS PER REQUIREMENT IN THE CODE.\n",
    "- PURPOSE OF `RETURN` STATEMENT:\n",
    "    - USED TO PRODUCE A RESULT.    \n",
    "    - STOPS THE EXECUTION OF FUNCTION.  \n",
    "    - SENDS A VALUE BACK TO THE CALLER.\n",
    "\n",
    "              SYNTAX:\n",
    "              DEF FUNCTION_NAME():\n",
    "              RETURN VALUE\n",
    "              ---------------------------------------\n",
    "              # EXAMPLE:\n",
    "              DEF ADD(A, B):\n",
    "                  RETURN A + B  \n",
    "              RESULT = ADD(3, 5)\n",
    "              PRINT(RESULT)  \n",
    "            \n",
    "            # OUTPUT: 8\n",
    "\n",
    "-----------------------------------------------------------------\n",
    "Q5. WHAT ARE ITERATORS IN PYTHON AND HOW DO THEY DIFFER FROM ITERABLES?\n",
    "- AN ITERATOR IS ACTUALLY AN OBJECT THAT REPRESENTS A STREAM OF DATA. IT TRACKS THE CURRENT POSITION, ALLOWING YOU TO FETCH ELEMENTS ONE AT A TIME, USING THE `NEXT()` FUNCTION.\n",
    "- ITERATORS IMPLEMENT TWO METHODS:\n",
    "    - `ITER()` RETURNS THE ITERATOR OBJECT ITSELF.\n",
    "    - `NEXT()` RETURNS THE NEXT ITEM IN THE SEQUENCE. RAISES `STOPITERATION` WHEN THERE ARE NO MORE ITEMS.\n",
    "              # EXAMPLE\n",
    "              MY_LIST = [1, 2, 3]\n",
    "              MY_ITERATOR = ITER(MY_LIST)  # CONVERT THE ITERABLE TO AN ITERATOR\n",
    "\n",
    "              PRINT(NEXT(MY_ITERATOR))  # OUTPUT: 1\n",
    "              PRINT(NEXT(MY_ITERATOR))  # OUTPUT: 2\n",
    "              PRINT(NEXT(MY_ITERATOR))  # OUTPUT: 3\n",
    "              PRINT(NEXT(MY_ITERATOR))  # RAISES STOPITERATION\n",
    "\n",
    "- AN ITERATOR IS THE OBJECT THAT PROVIDES THE ITEMS OF AN ITERABLE ONE AT A TIME USING `NEXT()` WHILE, AN ITERABLE IS ANY OBJECT YOU CAN LOOP OVER OR PASS TO `ITER()` TO OBTAIN AN ITERATOR.\n",
    "\n",
    "-----------------------------------------------------------------\n",
    "Q6. EXPLAIN THE CONCEPT OF GENERATORS IN PYTHON AND HOW THEY ARE DEFINED.\n",
    "- A GENERATOR FUNCTION IS A FUNCTION THAT CONTAINS AT LEAST ONE YIELD STATEMENT. INSTEAD OF RETURNING A VALUE USING RETURN, IT YIELDS VALUES ONE AT A TIME BY USING `YIELD` ARGUMENT.\n",
    "- WHEN THE GENERATOR FUNCTION IS CALLED, IT RETURNS A GENERATOR OBJECT WITHOUT EXECUTING THE CODE.\n",
    "\n",
    "              SYNTAX:\n",
    "              DEF GENERATOR_FUNCTION():\n",
    "                  YIELD VALUE\n",
    "              ---------------------------------------\n",
    "        \n",
    "              # EXAMPLE\n",
    "              DEF COUNT_UP_TO(N):\n",
    "                  COUNT = 1\n",
    "                  WHILE COUNT <= N:\n",
    "                      YIELD COUNT  # YIELD THE CURRENT VALUE OF COUNT\n",
    "                      COUNT += 1\n",
    "\n",
    "              # USING THE GENERATOR\n",
    "              COUNTER = COUNT_UP_TO(3)\n",
    "              PRINT(NEXT(COUNTER))  \n",
    "              PRINT(NEXT(COUNTER))  \n",
    "              PRINT(NEXT(COUNTER))  \n",
    "\n",
    "            # OUTPUT: 1\n",
    "            # OUTPUT: 2\n",
    "            # OUTPUT: 3\n",
    "              # CALLING NEXT AGAIN WILL RAISE STOPITERATION\n",
    "\n",
    "\n",
    "-----------------------------------------------------------------\n",
    "Q7. WHAT ARE THE ADVANTAGES OF USING GENERATORS OVER REGULAR FUNCTIONS?\n",
    "- ADVANTAGES OF USING GENERATORS\n",
    "    - MEMORY EFFICIENCY: GENERATORS GENERATE ON DEMAND, THUS SAVING MEMORY.\n",
    "    - INFINITE SEQUENCES: CAN BE REPRESENTED BY GENERATORS AS THEY DON'T HOLD ANY VALUE IN THE MEMORY.\n",
    "    - FAST EXECUTION: GENERATORS DON'T HAVE TO PRECOMPUTE OR STORE ALL VALUES.\n",
    "    - LAZY EVALUATION: VALUES ARE PRODUCED ONLY WHEN REQUIRED.\n",
    "    - SIMPLER CODE: REDUCES BOILERPLATE CODE FOR ITERATORS.\n",
    "\n",
    "-----------------------------------------------------------------\n",
    "Q8. WHAT IS A LAMBDA FUNCTION IN PYTHON AND WHEN IS IT TYPICALLY USED?\n",
    "- A LAMBDA FUNCTION IN PYTHON IS AN ANONYMOUS FUNCTION DEFINED USING THE LAMBDA KEYWORD. UNLIKE STANDARD FUNCTIONS DEFINED WITH THE DEF KEYWORD, A LAMBDA FUNCTION HAS NO NAME AND IS TYPICALLY USED FOR SHORT, SIMPLE OPERATIONS WHERE DEFINING A FULL FUNCTION IS UNNECESSARY.\n",
    "\n",
    "              SYNTAX:\n",
    "              LAMBDA ARGUMENTS: EXPRESSION\n",
    "              ---------------------------------------\n",
    "              # EXAMPLE:\n",
    "              ADD = LAMBDA X, Y: X + Y\n",
    "              PRINT(ADD(10, 5))  \n",
    "            \n",
    "            # OUTPUT: 15\n",
    "\n",
    "-----------------------------------------------------------------\n",
    "Q9. EXPLAIN THE PURPOSE AND USAGE OF THE `MAP()` FUNCTION IN PYTHON.\n",
    "- A BUILT-IN FUNCTION IN PYTHON, THE `MAP()` FUNCTION TAKES ALL ITEMS IN AN ITERABLE SUCH AS A LIST, TUPLE, OR STRING AND APPLIES A GIVEN FUNCTION TO EACH OF THEM RETURNING AN ITERATOR WHICH IS A MAP OBJECT OF THOSE RESULTS.\n",
    "- THE MAIN PURPOSE OF THE MAP() FUNCTION IS TO TRANSFORM EACH ITEM OF AN ITERABLE (FOR EXAMPLE, LIST, TUPLE) USING A SPECIFIED FUNCTION. INSTEAD OF WRITING A LOOP TO MANUALLY PROCESS EACH ITEM, MAP() PROVIDES A CLEANER AND MORE EFFICIENT WAY TO APPLY A FUNCTION TO ALL ELEMENTS IN A SINGLE LINE OF CODE.\n",
    "\n",
    "              SYNTAX:\n",
    "              MAP(FUNCTION, ITERABLE, ...)\n",
    "              ---------------------------------------\n",
    "              # EXAMPLE:\n",
    "              NUM = [1, 2, 5, 14, 25]\n",
    "              SQ_NUM = LIST(MAP(LAMBDA X: X**2, NUM))\n",
    "              PRINT(SQ_NUM)\n",
    "       # OUTPUT: [1, 4, 25, 196, 625]\n",
    "\n",
    "\n",
    "-----------------------------------------------------------------\n",
    "Q10. WHAT IS THE DIFFERENCE BETWEEN `MAP()`, `REDUCE()`, AND `FILTER()` FUNCTIONS IN PYTHON?\n",
    "- THE `MAP()` FUNCTION TAKES ALL ITEMS IN AN ITERABLE SUCH AS A LIST, TUPLE, OR STRING AND APPLIES A GIVEN FUNCTION TO EACH OF THEM RETURNING AN ITERATOR WHICH IS A MAP OBJECT OF THOSE RESULTS.\n",
    "    - THE MAIN PURPOSE OF`MAP()` FUNCTION IS TO TRANSFORM EACH ELEMENT IN AN ITERABLE.\n",
    "\n",
    "              SYNTAX:\n",
    "              MAP(FUNCTION, ITERABLE, ...)\n",
    "              ---------------------------------------\n",
    "              # EXAMPLE:\n",
    "              NUM = [1, 2, 5, 14, 25]\n",
    "              SQ_NUM = LIST(MAP(LAMBDA X: X**2, NUM))\n",
    "              PRINT(SQ_NUM)\n",
    "      \n",
    "          # OUTPUT: [1, 4, 25, 196, 625]\n",
    "\n",
    "- THE `FILTER()` FUNCTION APPLIES A FUNCTION THAT RETURNS A BOOLEAN, TRUE OR FALSE, TO EVERY ITEM IN AN ITERABLE AND RETURNS ONLY THE ELEMENTS WHERE THE FUNCTION EVALUATES TO TRUE.\n",
    "    - THE PURPOSE OF `FILTER()` FUNCTION IS TO FILTER ELEMENTS IN AN ITERABLE BASED ON A CONDITION.\n",
    "\n",
    "              SYNTAX:\n",
    "              FILTER(FUNCTION, ITERABLE)\n",
    "              ---------------------------------------\n",
    "              # EXAMPLE:\n",
    "              #FILTER EVEN NUMBERS FROM LIST\n",
    "              NUMBERS = [1, 2, 32, 14, 51, 63, 102]\n",
    "              EVENS = FILTER(LAMBDA X: X % 2 == 0, NUMBERS)\n",
    "              PRINT(LIST(EVENS))  \n",
    "          \n",
    "           # OUTPUT: [2, 32, 14, 102]\n",
    "\n",
    "- THE `REDUCE()` FUNCTION, FROM THE FUNCTOOLS MODULE, APPLIES A BINARY FUNCTION-A FUNCTION THAT TAKES TWO ARGUMENTS-TO ALL ITEMS IN AN ITERABLE GOING FROM LEFT TO RIGHT, SO AS TO REDUCE THE ITERABLE TO A SINGLE CUMULATIVE RESULT.\n",
    "    - THE PURPOSE OF `REDUCE()` FUNCTION IS THEO REDUCE AN ITERABLE TO A SINGLE VALUE BY APPLYING A FUNCTION CUMULATIVELY.\n",
    "              SYNTAX:\n",
    "              FUNCTOOLS.REDUCE(FUNCTION, ITERABLE[, INITIALIZER])\n",
    "              ---------------------------------------\n",
    "              # EXAMPLE:\n",
    "              FROM FUNCTOOLS IMPORT REDUCE\n",
    "              NUMBERS = [1, 2, 3, 4]\n",
    "              TOTAL = REDUCE(LAMBDA X, Y: X + Y, NUMBERS)\n",
    "              PRINT(TOTAL)  \n",
    "              \n",
    "              # OUTPUT: 10\n",
    "\n",
    "-----------------------------------------------------------------\n",
    "Q11. USING PEN & PAPER WRITE THE INTERNAL MECHANISM FOR SUM OPERATION USING  REDUCE FUNCTION ON THIS GIVEN\n",
    "LIST:[47,11,42,13];\n",
    "- SORRY SIR I'M UNABLE TO INSERT PICTURE BECAUSE OF THE WIDTH AND SIZE OF THE IMAGE SO THAT'S WHY I HAVE UPLOADED THE FILE IN DRIVE AND THE LINK FOR THAT PICTURE IS THIS: [PICTURE](HTTPS://DRIVE.GOOGLE.COM/FILE/D/1FEONWT6DZYJ0I58ZV7W3HCDOUDWG5OIZ/VIEW?USP=SHARING)\n",
    "         \n",
    "          PYTHON CODES:\n",
    "          FROM FUNCTOOLS IMPORT REDUCE\n",
    "          RESULT = REDUCE(LAMBDA X, Y: X + Y, [47, 11, 42, 13])\n",
    "          PRINT(RESULT)  \n",
    "        \n",
    "        # OUTPUT: 113\n",
    "\n",
    "----------------------------------------------------------------"
   ]
  },
  {
   "cell_type": "markdown",
   "metadata": {
    "id": "v4oPnrIhWmas"
   },
   "source": [
    "# PRACTICAL QUESTIONS"
   ]
  },
  {
   "cell_type": "code",
   "execution_count": 1,
   "metadata": {
    "colab": {
     "base_uri": "https://localhost:8080/"
    },
    "id": "zjSRenvmWxwc",
    "outputId": "6fa65c75-dd0c-43ee-c1aa-1b4755260b30"
   },
   "outputs": [
    {
     "name": "stdout",
     "output_type": "stream",
     "text": [
      "Enter numbers separated by spaces: 1 5 25 75 22 42 54 \n"
     ]
    },
    {
     "data": {
      "text/plain": [
       "118"
      ]
     },
     "execution_count": 1,
     "metadata": {},
     "output_type": "execute_result"
    }
   ],
   "source": [
    "#Practical question\n",
    "'''\n",
    "Q1. Write a Python function that takes a list of numbers as input and returns the sum of all even numbers in\n",
    "the list.\n",
    "\n",
    "'''\n",
    "'''\n",
    "Answere:-1\n",
    "'''\n",
    "n = list(map(int, input(\"Enter numbers separated by spaces: \").split()))\n",
    "def sum_of_even(n):\n",
    "    a = 0\n",
    "    for num in n:\n",
    "        if isinstance(num, int) and num % 2 == 0:\n",
    "            a += num\n",
    "    return a\n",
    "sum_of_even(n)"
   ]
  },
  {
   "cell_type": "code",
   "execution_count": 42,
   "metadata": {
    "colab": {
     "base_uri": "https://localhost:8080/",
     "height": 53
    },
    "id": "sSCmDPOsXBrg",
    "outputId": "786f097c-35f3-4af6-b4cf-7c1bc5f1b8eb"
   },
   "outputs": [
    {
     "name": "stdout",
     "output_type": "stream",
     "text": [
      "Enter a string:AVINESH\n"
     ]
    },
    {
     "data": {
      "application/vnd.google.colaboratory.intrinsic+json": {
       "type": "string"
      },
      "text/plain": [
       "'HSENIVA'"
      ]
     },
     "execution_count": 42,
     "metadata": {},
     "output_type": "execute_result"
    }
   ],
   "source": [
    "#Practical question\n",
    "'''\n",
    "Q2.  Create a Python function that accepts a string and returns the reverse of that string.\n",
    "\n",
    "'''\n",
    "'''\n",
    "Answere:-2\n",
    "'''\n",
    "input_string = input(\"Enter a string:\")\n",
    "def rev_string(input_string):\n",
    "  return input_string[::-1]\n",
    "rev_string(input_string)"
   ]
  },
  {
   "cell_type": "code",
   "execution_count": 43,
   "metadata": {
    "colab": {
     "base_uri": "https://localhost:8080/"
    },
    "id": "zOY6LuLRXAZA",
    "outputId": "2c29c900-c6ac-45b7-8c62-1986b11e64bd"
   },
   "outputs": [
    {
     "data": {
      "text/plain": [
       "[1, 25, 196, 625, 50625, 25000000, 238764304]"
      ]
     },
     "execution_count": 43,
     "metadata": {},
     "output_type": "execute_result"
    }
   ],
   "source": [
    "#Practical question\n",
    "'''\n",
    "Q3. Implement a Python function that takes a list of integers and returns a new list containing the squares of\n",
    "each number.\n",
    "\n",
    "'''\n",
    "'''\n",
    "Answere:-3\n",
    "'''\n",
    "numbers = [1,5,14,25,225, 5000,15452]\n",
    "def square_numbers(numbers):\n",
    "    if not isinstance(numbers, list):\n",
    "        return []\n",
    "    if not numbers:\n",
    "        return []\n",
    "    sq_num = []\n",
    "    for number in numbers:\n",
    "        if not isinstance(number, int):\n",
    "            return None\n",
    "        sq_num.append(number**2)\n",
    "    return sq_num\n",
    "square_numbers(numbers)"
   ]
  },
  {
   "cell_type": "code",
   "execution_count": 66,
   "metadata": {
    "colab": {
     "base_uri": "https://localhost:8080/"
    },
    "id": "VUTjCETwXAO6",
    "outputId": "ca5dfc7b-277c-4e77-b689-1033ad860456"
   },
   "outputs": [
    {
     "name": "stdout",
     "output_type": "stream",
     "text": [
      "Enter the start of the range: 1\n",
      "Enter the end of the range: 200\n",
      "Prime numbers from 1 to 200 : [2, 3, 5, 7, 11, 13, 17, 19, 23, 29, 31, 37, 41, 43, 47, 53, 59, 61, 67, 71, 73, 79, 83, 89, 97, 101, 103, 107, 109, 113, 127, 131, 137, 139, 149, 151, 157, 163, 167, 173, 179, 181, 191, 193, 197, 199]\n"
     ]
    }
   ],
   "source": [
    "#Practical question\n",
    "'''\n",
    "Q4. Write a Python function that checks if a given number is prime or not from 1 to 200.\n",
    "\n",
    "'''\n",
    "'''\n",
    "Answere:-4\n",
    "'''\n",
    "#i'm specifying the seperate varible for storing the starting and ending range\n",
    "#seperating the varible helps in modifying the range\n",
    "start = int(input(\"Enter the start of the range: \"))\n",
    "end = int(input(\"Enter the end of the range: \"))\n",
    "def is_prime(num):\n",
    "    if num <= 1:\n",
    "        return False\n",
    "    if num == 2:\n",
    "        return True\n",
    "    if num % 2 == 0:\n",
    "        return False\n",
    "    for i in range(3, int(num**0.5) + 1, 2):\n",
    "        if num % i == 0:\n",
    "            return False\n",
    "    return True\n",
    "primes = [num for num in range(start , end) if is_prime(num)]\n",
    "\n",
    "print(\"Prime numbers from\" , start, \"to\", end, \":\", primes)"
   ]
  },
  {
   "cell_type": "code",
   "execution_count": 62,
   "metadata": {
    "colab": {
     "base_uri": "https://localhost:8080/"
    },
    "id": "9roqW88XXAFH",
    "outputId": "8875ea04-7fc3-46e6-add0-8d72491268e4"
   },
   "outputs": [
    {
     "name": "stdout",
     "output_type": "stream",
     "text": [
      "Enter a specific number:5\n",
      "[0, 1, 1, 2, 3]\n"
     ]
    }
   ],
   "source": [
    "#Practical question\n",
    "'''\n",
    "Q5.  Create an iterator class in Python that generates the Fibonacci sequence up to a specified number of\n",
    "terms.\n",
    "\n",
    "'''\n",
    "'''\n",
    "Answere:-5\n",
    "'''\n",
    "n = int(input(\"Enter a specific number:\"))\n",
    "def fib(n):\n",
    "    a = 0\n",
    "    b = 1\n",
    "    for i in range(n):\n",
    "        yield a\n",
    "        a, b = b, a+b\n",
    "fib_series = fib(n)\n",
    "print(list(fib_series))"
   ]
  },
  {
   "cell_type": "code",
   "execution_count": 59,
   "metadata": {
    "colab": {
     "base_uri": "https://localhost:8080/"
    },
    "id": "0QH_Pf7sW_7U",
    "outputId": "322090fa-ad3f-4f4d-fb91-3e92db75cdba"
   },
   "outputs": [
    {
     "name": "stdout",
     "output_type": "stream",
     "text": [
      "Enter your number:5\n",
      "[1, 2, 4, 8, 16, 32]\n"
     ]
    }
   ],
   "source": [
    "#Practical question\n",
    "'''\n",
    "Q6. Write a generator function in Python that yields the powers of 2 up to a given exponent.\n",
    "\n",
    "'''\n",
    "'''\n",
    "Answere:-6\n",
    "'''\n",
    "exponent = int(input(\"Enter your number:\"))\n",
    "def power(exponent):\n",
    "    for i in range(exponent + 1):\n",
    "        yield 2**i\n",
    "a= power(exponent)\n",
    "print(list(a))"
   ]
  },
  {
   "cell_type": "code",
   "execution_count": 3,
   "metadata": {
    "colab": {
     "base_uri": "https://localhost:8080/"
    },
    "id": "4bk_6l_pW_xd",
    "outputId": "e1284177-6ee2-44a4-939f-77198f85b2e4"
   },
   "outputs": [
    {
     "name": "stdout",
     "output_type": "stream",
     "text": [
      "Reading lines from /content/drive/MyDrive/Pwskills assignments/sample.txt:\n",
      "this is code written by AVINESH MASIH\n",
      "by using generator function\n"
     ]
    }
   ],
   "source": [
    "#Practical question\n",
    "'''\n",
    "Q7. Implement a generator function that reads a file line by line and yields each line as a string.\n",
    "\n",
    "'''\n",
    "'''\n",
    "Answere:-7\n",
    "'''\n",
    "def read_file(file_path):\n",
    "    \"\"\"\n",
    "    A generator function that reads a file line by line and yields each line.\n",
    "\n",
    "    Args:\n",
    "        file_path (str): The path to the file to read.\n",
    "    \"\"\"\n",
    "    with open(file_path, 'r') as file:\n",
    "        for line in file:\n",
    "            yield line.strip()  # Using strip() to remove trailing newlines\n",
    "\n",
    "# Example Usage\n",
    "if __name__ == \"__main__\":\n",
    "    file_path = '/content/drive/MyDrive/Pwskills assignments/sample.txt'  # Specify the file path\n",
    "\n",
    "    print(f\"Reading lines from {file_path}:\")\n",
    "\n",
    "    for line in read_file(file_path):\n",
    "        print(line)\n"
   ]
  },
  {
   "cell_type": "code",
   "execution_count": 51,
   "metadata": {
    "colab": {
     "base_uri": "https://localhost:8080/"
    },
    "id": "dza8PsvHW_n0",
    "outputId": "fc59e122-0fff-4c67-a96a-d02e13901b92"
   },
   "outputs": [
    {
     "data": {
      "text/plain": [
       "[(4, 11), (22, 18), (3, 20), (1, 60)]"
      ]
     },
     "execution_count": 51,
     "metadata": {},
     "output_type": "execute_result"
    }
   ],
   "source": [
    "#Practical question\n",
    "'''\n",
    "Q8. Use a lambda function in Python to sort a list of tuples based on the second element of each tuple.\n",
    "\n",
    "'''\n",
    "'''\n",
    "Answere:-8\n",
    "'''\n",
    "list1 = [(1, 60), (3, 20), (22, 18), (4, 11)]\n",
    "sort = sorted(list1, key=lambda x: x[1])\n",
    "sort"
   ]
  },
  {
   "cell_type": "code",
   "execution_count": 52,
   "metadata": {
    "colab": {
     "base_uri": "https://localhost:8080/"
    },
    "id": "kz4MfB1tW_eq",
    "outputId": "1cb676ec-e88a-4e1e-8579-e3c042cf6706"
   },
   "outputs": [
    {
     "name": "stdout",
     "output_type": "stream",
     "text": [
      "('The Celsius temperature list is:', ['0°C', '10°C', '20°C', '30°C', '40°C'])\n",
      "The celsius to Fahrenheit convetred temperature is: ['32.0°F', '50.0°F', '68.0°F', '86.0°F', '104.0°F']\n"
     ]
    }
   ],
   "source": [
    "#Practical question\n",
    "'''\n",
    "Q9. Write a Python program that uses `map()` to convert a list of temperatures from Celsius to Fahrenheit.\n",
    "\n",
    "'''\n",
    "'''\n",
    "Answere:-9\n",
    "'''\n",
    "cels_temp = [0, 10, 20, 30, 40]\n",
    "cels_temp_c = [str(temp) + \"°C\" for temp in cels_temp]\n",
    "print ((\"The Celsius temperature list is:\",cels_temp_c ))\n",
    "def cels_to_fahr(cels):\n",
    "  return str((cels * 9/5) + 32) + \"°F\"  #celsius to fahrenheit formula   #°F = °C × (9/5) + 32\n",
    "fahr_temp = list(map(cels_to_fahr, cels_temp))\n",
    "\n",
    "print(\"The celsius to Fahrenheit convetred temperature is:\" ,fahr_temp)"
   ]
  },
  {
   "cell_type": "code",
   "execution_count": 53,
   "metadata": {
    "colab": {
     "base_uri": "https://localhost:8080/",
     "height": 53
    },
    "id": "5ibZFuscW_Ue",
    "outputId": "9e06d357-2345-4dc1-8174-5afafbb9f10f"
   },
   "outputs": [
    {
     "name": "stdout",
     "output_type": "stream",
     "text": [
      "Enter a string: avineshMASIH\n"
     ]
    },
    {
     "data": {
      "application/vnd.google.colaboratory.intrinsic+json": {
       "type": "string"
      },
      "text/plain": [
       "'vnshMSH'"
      ]
     },
     "execution_count": 53,
     "metadata": {},
     "output_type": "execute_result"
    }
   ],
   "source": [
    "#Practical question\n",
    "'''\n",
    "Q10. Create a Python program that uses `filter()` to remove all the vowels from a given string.\n",
    "\n",
    "'''\n",
    "'''\n",
    "Answere:-10\n",
    "'''\n",
    "val = input(\"Enter a string: \")\n",
    "def remove(val):\n",
    "  vow = \"aeiouAEIOU\"\n",
    "  return \"\".join(filter(lambda word: word not in vow, val))\n",
    "remove(val)"
   ]
  },
  {
   "cell_type": "code",
   "execution_count": 54,
   "metadata": {
    "colab": {
     "base_uri": "https://localhost:8080/"
    },
    "id": "l5BzYmNMZfGj",
    "outputId": "a86f4f28-a1a3-4088-f9c8-b1b8311bfadb"
   },
   "outputs": [
    {
     "name": "stdout",
     "output_type": "stream",
     "text": [
      "[(34587, 163.8), (98762, 284.0), (77226, 108.85000000000001), (88112, 84.97)]\n"
     ]
    }
   ],
   "source": [
    "#Practical question\n",
    "'''\n",
    "Q11.  Imagine an accounting routine used in a book shop. It works on a list with sublists, which look like this:\n",
    "\n",
    "Order Number     Book Title and Author               Quantity      Price per Item\n",
    "\n",
    "34587            Learning Python, Mark Lutz              4              40.95\n",
    "98762            Programming Python, Mark Lutz           5              56.80\n",
    "77226            Head First Python, Paul Barry           3              32.95\n",
    "88112            Einführung in Python3, Bernd Klein      3              24.99\n",
    "\n",
    "\n",
    "\n",
    "\n",
    "Write a Python program, which returns a list with 2-tuples. Each tuple consists of the order number and the\n",
    "product of the price per item and the quantity. The product should be increased by 10,- € if the value of the\n",
    "order is smaller than 100,00 €.\n",
    "\n",
    "Write a Python program using lambda and map.\n",
    "\n",
    "'''\n",
    "'''\n",
    "Answere:-11\n",
    "'''\n",
    "book_shop = [\n",
    "    [34587, 'Learning Python, Mark Lutz', 4, 40.95],\n",
    "    [98762, 'Programming Python, Mark Lutz', 5, 56.80],\n",
    "    [77226, 'Head First Python, Paul Barry', 3, 32.95],\n",
    "    [88112, 'Einführung in Python3, Bernd Klein', 3, 24.99]\n",
    "]\n",
    "final_list = list(map(lambda order: (order[0], order[2] * order[3] + 10 if (order[2] * order[3]) < 100 else order[2] * order[3]), book_shop))\n",
    "\n",
    "print(final_list)\n"
   ]
  }
 ],
 "metadata": {
  "colab": {
   "collapsed_sections": [
    "v4oPnrIhWmas"
   ],
   "provenance": []
  },
  "kernelspec": {
   "display_name": "Python 3",
   "name": "python3"
  },
  "language_info": {
   "name": "python"
  }
 },
 "nbformat": 4,
 "nbformat_minor": 0
}
