{
  "nbformat": 4,
  "nbformat_minor": 0,
  "metadata": {
    "colab": {
      "provenance": []
    },
    "kernelspec": {
      "name": "python3",
      "display_name": "Python 3"
    },
    "language_info": {
      "name": "python"
    }
  },
  "cells": [
    {
      "cell_type": "markdown",
      "source": [
        "# Data Types and Structures Questions (Theory)"
      ],
      "metadata": {
        "id": "W5fayWNIiIxT"
      }
    },
    {
      "cell_type": "markdown",
      "source": [
        " # 1.What are data structures, and why are they important?\n",
        "\n",
        "  - Data structures are specialized formats for organizing, storing, and accessing collections of data. They provide efficient ways to manage information based on its characteristics and intended use.\n",
        "  \n",
        "  Think of them as containers that hold your data and determine how you can interact with it. Different containers are better suited for different types of items.\n",
        "\n",
        "  Why are they important?\n",
        "\n",
        "  - Choosing the right data structure significantly impacts the efficiency and performance of your program.\n",
        "  - Well-chosen data structures can:\n",
        "  - Simplify data manipulation (adding, removing, modifying elements)\n",
        "  - Optimize searching and sorting operations\n",
        "  - Conserve memory usage\n",
        "\n",
        "  # 2. Explain the difference between mutable and immutable data types with examples.\n",
        "\n",
        "    - Python\u2019s Mutable vs Immutable\n",
        "\n",
        "  Mutable and immutable objects are handled differently in Python. Immutable objects are quicker to access and are expensive to change because it involves the creation of a copy. Whereas mutable objects are easy to change.\n",
        "\n",
        "  The use of mutable objects is recommended when there is a need to change the size or content of the object.\n",
        "\n",
        "  Exception: However, there is an exception in immutability as well. We know that a tuple in Python is immutable. But the tuple consists of a sequence of names with unchangeable bindings to objects. Consider a tuple.\n",
        "\n",
        "  - Mutable Example:\n",
        "\n",
        "```python\n",
        "    my_list = [1, 2, 3]\n",
        "    my_list[0] = 10        # Modifying the list\n",
        "    print(my_list)         # Output: [10, 2, 3]\n",
        "```\n",
        "  - Immutable Example:\n",
        "```python\n",
        "    my_str = \"hello\"\n",
        "    my_str = my_str.replace(\"h\", \"y\")  # Creates a new string\n",
        "    print(my_str)                      # Output: \"yello\"\n",
        "```\n",
        "\n",
        "# 3. What are the main differences between lists and tuples in Python?\n",
        "\n",
        "  - Lists\n",
        "\n",
        "  Description: Ordered, mutable collections of elements. Think of shopping lists or task lists. Lists can hold items of various data types (numbers, strings, even other lists!).\n",
        "\n",
        "  Operations: We can add, remove, or modify elements within a list using indexing and slicing. Lists are versatile for storing and managing collections that might change.\n",
        "\n",
        "```python\n",
        "    shopping_list = [\"apples\",2, \"milk\", True] # Mixed data types\n",
        "    shopping_list.append(bread) # Adding an item\n",
        "    del shopping_list[l]\n",
        "\n",
        "    O/P: shopping_list\n",
        "    [apples', 'milk' , True, bread']\n",
        "```\n",
        "\n",
        "  - Tuples:\n",
        "\n",
        "  Description: Ordered, immutable collections of elements, similar to lists. However, once created, the items in a tuple cannot be changed. They provide a secure way to store data that shouldn't be modified.\n",
        "  \n",
        "  Operations: We can access elements using indexing and slicing, but you cannot modify the content. Tuples are useful for representing fixed datasets or configurations.\n",
        "```python\n",
        "        # Create a tuple\n",
        "        my_tuple= (10,\"apple\", True)\n",
        "\n",
        "        # Attempt to modify an element (will cause an error)\n",
        "        my_tuple[0] = 20 # This Line will cause an error\n",
        "```\n",
        "\n",
        "# 4. Describe how dictionaries store data.\n",
        "\n",
        "  - Operations (Basic):\n",
        "\n",
        "  Add: Use direct assignment (dictionary_name[key] = value) or .update() method.\n",
        "\n",
        "  Access: Retrieve values using their keys (value = dictionary_name[key]).\n",
        "\n",
        "  Remove: Use del dictionary_name[key], .pop(key), or .popitem().\n",
        "\n",
        "  Check membership: Use the in operator (key in dictionary_name).\n",
        "\n",
        "# 5. Why might you use a set instead of a list in Python?\n",
        "\n",
        "1. *Uniqueness*:\n",
        "   Sets automatically ensure all elements are unique. They discard duplicate values upon creation or insertion.\n",
        "\n",
        "2. *Performance*:\n",
        "   Sets provide faster lookup times compared to lists. Membership tests (e.g., using `in`) are more efficient due to the underlying hash table implementation.\n",
        "\n",
        "3. *Set Operations*:\n",
        "   Sets support built-in methods for mathematical set operations such as union, intersection, difference, and symmetric difference, which are not directly available for lists.\n",
        "\n",
        "4. *Semantic Meaning*:\n",
        "   Using a set can make your code more expressive when your intent is to store unique items, emphasizing that duplicates are not allowed or needed.\n",
        "\n",
        "# 6. What is a string in Python, and how is it different from a list?\n",
        "\n",
        "1. **Data Type**:\n",
        "\n",
        "   * String: Stores characters.\n",
        "   * List: Stores elements of any data type.\n",
        "\n",
        "2. **Mutability**:\n",
        "\n",
        "   * String: Immutable (cannot be modified).\n",
        "   * List: Mutable (can be modified).\n",
        "\n",
        "3. **Element Type**:\n",
        "\n",
        "   * String: Only characters.\n",
        "   * List: Can contain numbers, strings, objects, etc.\n",
        "\n",
        "4. **Syntax**:\n",
        "\n",
        "   * String: `'hello'` or `\"hello\"`.\n",
        "   * List: `[1, 'a', 3.14]`.\n",
        "\n",
        "5. **Usage**:\n",
        "\n",
        "   * String: Used for text manipulation.\n",
        "   * List: Used for general-purpose data collection.\n",
        "\n",
        "6. **Methods**:\n",
        "\n",
        "   * String: Has text-related methods like `.upper()`, `.lower()`, `.replace()`.\n",
        "   * List: Has collection-related methods like `.append()`, `.remove()`, `.sort()`.\n",
        "\n",
        "# 7. How do tuples ensure data integrity in Python?\n",
        "\n",
        "  - Tuples help ensure data integrity in Python primarily through **immutability**. Here's how that works and why it's important:\n",
        "\n",
        "### 1. **Immutability**\n",
        "\n",
        "* Once a tuple is created, its contents cannot be changed (i.e., no adding, removing, or modifying elements).\n",
        "* This prevents accidental or unauthorized modifications to the data, which is crucial in maintaining the consistency and reliability of the values.\n",
        "\n",
        "### 2. **Hashability**\n",
        "\n",
        "* Because tuples are immutable, they are hashable (as long as all elements are hashable too), meaning they can be used as keys in dictionaries or stored in sets.\n",
        "* This allows for consistent behavior when storing them in data structures that depend on immutability for fast access and integrity.\n",
        "\n",
        "### 3. **Safer Function Arguments**\n",
        "\n",
        "* Tuples are often used to group related data and pass it as a single argument to functions, ensuring that the data received by the function cannot be altered unintentionally within the function scope.\n",
        "\n",
        "### 4. **Predictability and Debugging**\n",
        "\n",
        "* Since the contents of a tuple don\u2019t change, they are easier to reason about when debugging or maintaining code. You can rely on the fact that the data remains constant throughout its lifetime.\n",
        "\n",
        "# 8.  What is a hash table, and how does it relate to dictionaries in Python?\n",
        "\n",
        "  - A **hash table** is a data structure that maps keys to values using a process called **hashing**. Here's how it works and how it's directly related to **dictionaries in Python**:\n",
        "\n",
        "### \ud83d\udd39 What Is a Hash Table?\n",
        "\n",
        "A **hash table**:\n",
        "\n",
        "1. Uses a **hash function** to convert a key (e.g., a string or number) into an index (a number).\n",
        "2. Stores the value at that index in an internal array.\n",
        "3. Allows very fast access (on average **O(1)** time complexity) to retrieve, insert, or delete a key-value pair.\n",
        "\n",
        "### \ud83d\udd39 How It Relates to Python Dictionaries\n",
        "\n",
        "In Python, the `dict` type is implemented using a hash table under the hood.\n",
        "\n",
        "* When you do `my_dict['name'] = 'Alice'`:\n",
        "\n",
        "  * Python uses a hash function on `'name'` to get a unique index.\n",
        "  * It stores `'Alice'` at that index.\n",
        "* When you later retrieve it with `my_dict['name']`, Python hashes the key again and jumps directly to the correct index.\n",
        "\n",
        "### \ud83d\udd39 Why Hash Tables Are Powerful\n",
        "\n",
        "* **Fast Lookups**: Access time is almost constant, even with large datasets.\n",
        "* **Flexible Keys**: Any immutable and hashable object (like a string, number, or tuple) can be a key.\n",
        "* **Collision Handling**: Python handles hash collisions internally using techniques like open addressing or chaining.\n",
        "\n",
        "\n",
        "# 9. Can lists contain different data types in Python?\n",
        "\n",
        "  - Yes, **lists in Python can contain different data types**.\n",
        "\n",
        "Python lists are **heterogeneous**, meaning they can store elements of **any type**\u2014including integers, strings, floats, other lists, functions, or even custom objects\u2014all in the same list.\n",
        "\n",
        "### \u2705 Example:\n",
        "\n",
        "```python\n",
        "mixed_list = [42, \"hello\", 3.14, [1, 2], {'a': 1}, len]\n",
        "```\n",
        "\n",
        "In this list:\n",
        "\n",
        "* `42` is an integer\n",
        "* `\"hello\"` is a string\n",
        "* `3.14` is a float\n",
        "* `[1, 2]` is another list\n",
        "* `{'a': 1}` is a dictionary\n",
        "* `len` is a built-in function\n",
        "\n",
        "# 10. Explain why strings are immutable in Python?\n",
        "\n",
        "  - Strings in Python are **immutable** for several reasons:\n",
        "\n",
        "1. **Efficiency**: Immutability allows Python to optimize memory usage by reusing string objects and avoiding unnecessary copies (e.g., **string interning**).\n",
        "\n",
        "2. **Security**: Since strings can't be modified, it prevents accidental changes, ensuring that values remain consistent throughout the program.\n",
        "\n",
        "3. **Hashing**: Immutability ensures that the hash value of a string stays constant, which is crucial for using strings as dictionary keys.\n",
        "\n",
        "4. **Consistency**: Immutable strings make code easier to understand and debug, as their values never change after creation.\n",
        "\n",
        "In short, immutability improves performance, safety, and reliability in Python.\n",
        "\n",
        "# 11. What advantages do dictionaries offer over lists for certain tasks?\n",
        "\n",
        "  - Dictionaries offer several advantages over lists:\n",
        "\n",
        "1. **Fast Lookups**: O(1) time complexity for accessing values by key, while lists require O(n) for searching by value.\n",
        "\n",
        "2. **Key-Value Mapping**: Ideal for tasks that involve associating values with unique keys (e.g., storing user info with usernames).\n",
        "\n",
        "3. **Efficient Updates**: Easy to update values using keys without needing to search (unlike lists).\n",
        "\n",
        "4. **Uniqueness of Keys**: Keys in dictionaries are unique, helping avoid duplicates, unlike lists.\n",
        "\n",
        "5. **Structured Data**: Better for storing complex data like records or profiles with named fields.\n",
        "\n",
        "In short, dictionaries are better when you need fast, key-based access or to store data with a clear structure.\n",
        "\n",
        "# 12. Describe a scenario where using a tuple would be preferable over a list?\n",
        "\n",
        "  - A **tuple** is preferable over a **list** when you need **immutability** and **data integrity**. For example, when storing fixed configuration data (like screen resolution, volume, and language settings), a tuple ensures that the values can't be accidentally modified. Tuples are also more memory-efficient and faster than lists.\n",
        "\n",
        "### Example:\n",
        "\n",
        "```python\n",
        "config = ('1920x1080', 75, 'English')  # Fixed settings, can't be changed\n",
        "```\n",
        "\n",
        "# 13. How do sets handle duplicate values in Python?\n",
        "\n",
        "  - Sets in Python are designed to store only unique elements. When an attempt is made to add a duplicate value to a set, Python automatically ignores it, ensuring that the set contains only distinct elements. This behavior is a fundamental characteristic of sets, making them useful for tasks like removing duplicates from a list or checking for membership without concern for repetition.\n",
        "```python\n",
        "    my_set = {1, 2, 2, 3, 4, 4, 5}\n",
        "    print(my_set)\n",
        "    # Expected output: {1, 2, 3, 4, 5}\n",
        "```\n",
        "\n",
        "# 14. How does the \u201cin\u201d keyword work differently for lists and dictionaries?\n",
        "\n",
        "  - The **`in`** keyword works differently for **lists** and **dictionaries** in Python because of how they are structured:\n",
        "\n",
        "### 1. **For Lists:**\n",
        "\n",
        "* The `in` keyword checks if a **value** exists in the list.\n",
        "* It searches through the list to find the value and returns `True` if it\u2019s found, otherwise `False`.\n",
        "\n",
        "```python\n",
        "my_list = [1, 2, 3]\n",
        "print(2 in my_list)  # True (checks if 2 is in the list)\n",
        "print(4 in my_list)  # False (4 is not in the list)\n",
        "```\n",
        "\n",
        "### 2. **For Dictionaries:**\n",
        "\n",
        "* The `in` keyword checks if a **key** exists in the dictionary, not the value.\n",
        "* It searches through the dictionary\u2019s keys and returns `True` if the key exists, otherwise `False`.\n",
        "\n",
        "```python\n",
        "my_dict = {'a': 1, 'b': 2}\n",
        "print('a' in my_dict)  # True (checks if 'a' is a key in the dictionary)\n",
        "print(1 in my_dict)    # False (1 is not a key)\n",
        "```\n",
        "\n",
        "# 15.  Can you modify the elements of a tuple? Explain why or why not?\n",
        "\n",
        "  - No, We **cannot modify the elements** of a tuple after it\u2019s created. This is because tuples are **immutable** in Python.\n",
        "\n",
        "### Why Not?\n",
        "\n",
        "* **Immutability**: Once a tuple is created, its contents cannot be changed. This ensures that the data remains consistent and protected from accidental modifications.\n",
        "* **Performance**: Immutability allows Python to optimize memory usage and performance, as tuples can be stored in a more efficient way compared to mutable data types like lists.\n",
        "\n",
        "### Example:\n",
        "\n",
        "```python\n",
        "my_tuple = (1, 2, 3)\n",
        "my_tuple[1] = 4  # This will raise a TypeError because tuples are immutable\n",
        "```\n",
        "\n",
        "However, We can **reassign the entire tuple** to a new one, if needed:\n",
        "\n",
        "```python\n",
        "my_tuple = (1, 2, 3)\n",
        "my_tuple = (4, 5, 6)  # This works because we're assigning a new tuple\n",
        "```\n",
        "\n",
        "# 16. What is a nested dictionary, and give an example of its use case?\n",
        "\n",
        "  - A **nested dictionary** is a dictionary where the values themselves are dictionaries. This allows you to represent more complex structures, such as multi-level data.\n",
        "\n",
        "  ### Use Case: Storing Information About Multiple Students\n",
        "\n",
        "  Imagine you're managing a system that stores details about students. Each student has multiple attributes (like name, age, and grades), and you might want to store this information in a dictionary, with each student being a key and their attributes as nested dictionaries.\n",
        "\n",
        "### Example:\n",
        "\n",
        "```python\n",
        "students = {\n",
        "    \"John\": {\n",
        "        \"age\": 18,\n",
        "        \"grades\": {\"math\": 90, \"english\": 85}\n",
        "    },\n",
        "    \"Alice\": {\n",
        "        \"age\": 20,\n",
        "        \"grades\": {\"math\": 95, \"english\": 88}\n",
        "    }\n",
        "}\n",
        "\n",
        "# Accessing Alice's math grade\n",
        "print(students[\"Alice\"][\"grades\"][\"math\"])  # Output: 95\n",
        "```\n",
        "\n",
        "# 17.  Describe the time complexity of accessing elements in a dictionary.\n",
        "\n",
        "  - Accessing elements in a **dictionary** in Python typically has **O(1)** time complexity, meaning it's a constant-time operation. This efficiency comes from the underlying **hash table** data structure that dictionaries use.\n",
        "\n",
        "### How It Works:\n",
        "\n",
        "1. **Hashing**: When you use a key to access a value (e.g., `my_dict[key]`), Python applies a hash function to the key to quickly determine the index in the dictionary's internal structure.\n",
        "2. **Direct Access**: The hashed index allows Python to jump directly to the location where the value is stored, resulting in fast access.\n",
        "\n",
        "### Best Case (O(1)):\n",
        "\n",
        "* Most dictionary lookups take **constant time**\u2014regardless of the size of the dictionary\u2014because Python can access the key directly using the hash.\n",
        "\n",
        "### Worst Case (O(n)):\n",
        "\n",
        "* In rare cases, such as when many keys hash to the same value (called **hash collisions**), the dictionary may need to check each key in the same \"bucket\" or index. This can degrade performance to **O(n)**, where `n` is the number of elements in the dictionary.\n",
        "* However, Python's implementation handles collisions efficiently, so this worst-case scenario is rare.\n",
        "\n",
        "### Example:\n",
        "\n",
        "```python\n",
        "my_dict = {'a': 10, 'b': 20, 'c': 30}\n",
        "print(my_dict['b'])  # O(1) - Fast access to the value 20\n",
        "```\n",
        "\n",
        "# 18. In what situations are lists preferred over dictionaries?\n",
        "\n",
        "  - **Lists** are preferred over **dictionaries** when:\n",
        "\n",
        "1. **Order Matters**: Lists maintain the order of elements, while dictionaries do not.\n",
        "2. **No Key-Value Pairs**: Use lists when you just need a collection of items without key associations.\n",
        "3. **Indexing**: Lists allow access by index, making them suitable for sequence-based operations.\n",
        "4. **Operations on Sequences**: Lists provide methods like `.append()`, `.remove()`, and `.pop()` for managing collections.\n",
        "5. **Smaller Data**: Lists are simpler for smaller datasets without the need for fast lookups.\n",
        "\n",
        "# 19. Why are dictionaries considered unordered, and how does that affect data retrieval?\n",
        "\n",
        "  - Dictionaries in Python are considered **unordered** because they do not maintain the **insertion order** of their key-value pairs (though this behavior has changed in Python 3.7+, where dictionaries **preserve insertion order**). However, the **order of the keys** doesn\u2019t affect how data is stored or retrieved.\n",
        "\n",
        "### Why Are Dictionaries Unordered?\n",
        "\n",
        "* **Hashing**: Python dictionaries are implemented using a **hash table**. When a key is added, Python computes its hash and uses it to store the key-value pair in a particular location in memory, which is not based on insertion order.\n",
        "* **Efficiency**: This hashing mechanism allows for **fast O(1)** lookups, insertions, and deletions, but it doesn't concern itself with the order in which items were added.\n",
        "\n",
        "### Impact on Data Retrieval:\n",
        "\n",
        "* **Unordered** means you can't rely on the order of elements when iterating over a dictionary (before Python 3.7). However, you can still efficiently retrieve values by **key** using `my_dict[key]`, regardless of insertion order.\n",
        "\n",
        "### Example:\n",
        "\n",
        "```python\n",
        "my_dict = {'a': 1, 'b': 2, 'c': 3}\n",
        "print(my_dict['b'])  # Efficient O(1) retrieval by key, not affected by order\n",
        "```\n",
        "\n",
        "# 20. Explain the difference between a list and a dictionary in terms of data retrieval.\n",
        "\n",
        "  - The main difference between a **list** and a **dictionary** in terms of **data retrieval** is how you access the data:\n",
        "\n",
        "### 1. **List:**\n",
        "\n",
        "* **Access by Index**: Data is retrieved from a list using an **index** (integer position).\n",
        "* **Ordered**: Lists maintain the order of elements as they are added.\n",
        "* **Time Complexity**: Retrieving data by index is **O(1)**, but searching for a specific value takes **O(n)**, as you have to iterate through the list.\n",
        "\n",
        "**Example**:\n",
        "\n",
        "```python\n",
        "my_list = [10, 20, 30]\n",
        "print(my_list[1])  # Output: 20 (access by index)\n",
        "```\n",
        "\n",
        "### 2. **Dictionary:**\n",
        "\n",
        "* **Access by Key**: Data is retrieved using a **key** rather than an index.\n",
        "* **Unordered**: Before Python 3.7, dictionaries were unordered, meaning the order of key-value pairs isn\u2019t guaranteed (though they preserve order in Python 3.7+).\n",
        "* **Time Complexity**: Accessing a value by key is **O(1)** on average, thanks to the hash table structure.\n",
        "\n",
        "**Example**:\n",
        "\n",
        "```python\n",
        "my_dict = {'a': 10, 'b': 20}\n",
        "print(my_dict['b'])  # Output: 20 (access by key)\n",
        "```\n",
        "\n",
        "### Key Differences in Data Retrieval:\n",
        "\n",
        "* **List**: Access by index and maintains the order of items.\n",
        "* **Dictionary**: Access by key and provides faster lookups due to hashing, but order was not preserved until Python 3.7.\n",
        "\n",
        "In short, lists are for **ordered** collections with **indexed access**, while dictionaries provide **faster lookups** by **key**."
      ],
      "metadata": {
        "id": "OBFN38A5ieiy"
      }
    },
    {
      "cell_type": "markdown",
      "source": [
        "# **Practical Questions**"
      ],
      "metadata": {
        "id": "pV_QXOwj1UQi"
      }
    },
    {
      "cell_type": "code",
      "source": [
        " # 1. Write a code to create a string with your name and print it.\n",
        "\n",
        "my_name = \"Maverick\"\n",
        "print(my_name)"
      ],
      "metadata": {
        "id": "uDeB0rsc1tdR",
        "colab": {
          "base_uri": "https://localhost:8080/"
        },
        "outputId": "9bd36f9d-1add-4016-93c5-ad2d4fefb693"
      },
      "execution_count": 2,
      "outputs": [
        {
          "output_type": "stream",
          "name": "stdout",
          "text": [
            "Maverick\n"
          ]
        }
      ]
    },
    {
      "cell_type": "code",
      "source": [
        " # 2. Write a code to find the length of the string \"Hello World\".\n",
        "\n",
        "my_string = \"Hello World\"\n",
        "length_of_string = len(my_string)\n",
        "print(\"The length of the string is:\", length_of_string)"
      ],
      "metadata": {
        "colab": {
          "base_uri": "https://localhost:8080/"
        },
        "id": "JUPLWLohc-9g",
        "outputId": "c08475ce-0a1e-4b4f-feab-cabae257c044"
      },
      "execution_count": 3,
      "outputs": [
        {
          "output_type": "stream",
          "name": "stdout",
          "text": [
            "The length of the string is: 11\n"
          ]
        }
      ]
    },
    {
      "cell_type": "code",
      "source": [
        "# 3. Write a code to slice the first 3 characters from the string \"Python Programming\".\n",
        "\n",
        "my_string = \"Python Programming\"\n",
        "sliced_string = my_string[:3]\n",
        "print(\"The first 3 characters are:\", sliced_string)"
      ],
      "metadata": {
        "colab": {
          "base_uri": "https://localhost:8080/"
        },
        "id": "nC6eyX_Tdbr0",
        "outputId": "2cc2f15c-8d0f-4005-fde9-44af6ca6f2c3"
      },
      "execution_count": 4,
      "outputs": [
        {
          "output_type": "stream",
          "name": "stdout",
          "text": [
            "The first 3 characters are: Pyt\n"
          ]
        }
      ]
    },
    {
      "cell_type": "code",
      "source": [
        "# 4. Write a code to convert the string \"hello\" to uppercase.\n",
        "\n",
        "my_string = \"hello\"\n",
        "uppercase_string = my_string.upper()\n",
        "print(\"The string in uppercase is:\", uppercase_string)"
      ],
      "metadata": {
        "colab": {
          "base_uri": "https://localhost:8080/"
        },
        "id": "nxFco69UdnCl",
        "outputId": "9f477c93-6b50-4ab1-a67d-62dea2ab382a"
      },
      "execution_count": 5,
      "outputs": [
        {
          "output_type": "stream",
          "name": "stdout",
          "text": [
            "The string in uppercase is: HELLO\n"
          ]
        }
      ]
    },
    {
      "cell_type": "code",
      "source": [
        "# 5. Write a code to replace the word \"apple\" with \"orange\" in the string \"I like apple\".\n",
        "\n",
        "my_string = \"I like apple\"\n",
        "new_string = my_string.replace(\"apple\", \"orange\")\n",
        "print(\"The new string is:\", new_string)"
      ],
      "metadata": {
        "colab": {
          "base_uri": "https://localhost:8080/"
        },
        "id": "ZcILx7d6ejAD",
        "outputId": "1b84366b-ab82-4cbd-eb4b-e07dcaa4faf1"
      },
      "execution_count": 6,
      "outputs": [
        {
          "output_type": "stream",
          "name": "stdout",
          "text": [
            "The new string is: I like orange\n"
          ]
        }
      ]
    },
    {
      "cell_type": "code",
      "source": [
        "# 6. Write a code to create a list with numbers 1 to 5 and print it.\n",
        "\n",
        "my_list = [1, 2, 3, 4, 5]\n",
        "print(\"The list is:\", my_list)"
      ],
      "metadata": {
        "colab": {
          "base_uri": "https://localhost:8080/"
        },
        "id": "4wE2AOnZe1j9",
        "outputId": "27e70bf6-e9c8-4576-8357-dcd69691de34"
      },
      "execution_count": 7,
      "outputs": [
        {
          "output_type": "stream",
          "name": "stdout",
          "text": [
            "The list is: [1, 2, 3, 4, 5]\n"
          ]
        }
      ]
    },
    {
      "cell_type": "code",
      "source": [
        "# 7. Write a code to append the number 10 to the list [1, 2, 3, 4].\n",
        "\n",
        "my_list = [1, 2, 3, 4]\n",
        "my_list.append(10)\n",
        "print(my_list)"
      ],
      "metadata": {
        "colab": {
          "base_uri": "https://localhost:8080/"
        },
        "id": "GRvy0qxnfv3C",
        "outputId": "54d070e0-1d14-49e5-9c56-d37066b954f1"
      },
      "execution_count": 8,
      "outputs": [
        {
          "output_type": "stream",
          "name": "stdout",
          "text": [
            "[1, 2, 3, 4, 10]\n"
          ]
        }
      ]
    },
    {
      "cell_type": "code",
      "source": [
        "# 8. Write a code to remove the number 3 from the list [1, 2, 3, 4, 5].\n",
        "\n",
        "my_list = [1, 2, 3, 4, 5]\n",
        "my_list.remove(3)\n",
        "print(my_list)"
      ],
      "metadata": {
        "colab": {
          "base_uri": "https://localhost:8080/"
        },
        "id": "v7E-cEpuhRU0",
        "outputId": "ae727a4f-792c-43f1-a4ed-0f740561ca09"
      },
      "execution_count": 9,
      "outputs": [
        {
          "output_type": "stream",
          "name": "stdout",
          "text": [
            "[1, 2, 4, 5]\n"
          ]
        }
      ]
    },
    {
      "cell_type": "code",
      "source": [
        "# 9. Write a code to access the second element in the list ['a', 'b', 'c', 'd'].\n",
        "\n",
        "my_list = ['a', 'b', 'c', 'd']\n",
        "second_element = my_list[1]\n",
        "print(\"The second element is:\", second_element)"
      ],
      "metadata": {
        "colab": {
          "base_uri": "https://localhost:8080/"
        },
        "id": "Pm_IA6TAhd-N",
        "outputId": "d82fc4c9-96b6-4520-cf62-aeaf72982488"
      },
      "execution_count": 10,
      "outputs": [
        {
          "output_type": "stream",
          "name": "stdout",
          "text": [
            "The second element is: b\n"
          ]
        }
      ]
    },
    {
      "cell_type": "code",
      "source": [
        "# 10. Write a code to reverse the list [10, 20, 30, 40, 50].\n",
        "\n",
        "my_list = [10, 20, 30, 40, 50]\n",
        "reversed_list = my_list[::-1]\n",
        "print(\"The reversed list is:\", reversed_list)"
      ],
      "metadata": {
        "colab": {
          "base_uri": "https://localhost:8080/"
        },
        "id": "hD3fMCKWhpK9",
        "outputId": "cca4559e-c004-4354-974d-8e17aaab9925"
      },
      "execution_count": 11,
      "outputs": [
        {
          "output_type": "stream",
          "name": "stdout",
          "text": [
            "The reversed list is: [50, 40, 30, 20, 10]\n"
          ]
        }
      ]
    },
    {
      "cell_type": "code",
      "source": [
        "# 11. Write a code to create a tuple with the elements 100, 200, 300 and print it.\n",
        "\n",
        "my_tuple = (100, 200, 300)\n",
        "print(\"The tuple is:\", my_tuple)"
      ],
      "metadata": {
        "colab": {
          "base_uri": "https://localhost:8080/"
        },
        "id": "i1SfQ1yGhyVW",
        "outputId": "67ac24d9-6c69-47f3-911b-09aa595e1fd2"
      },
      "execution_count": 12,
      "outputs": [
        {
          "output_type": "stream",
          "name": "stdout",
          "text": [
            "The tuple is: (100, 200, 300)\n"
          ]
        }
      ]
    },
    {
      "cell_type": "code",
      "source": [
        "# 12. Write a code to access the second-to-last element of the tuple ('red', 'green', 'blue', 'yellow').\n",
        "\n",
        "my_tuple = ('red', 'green', 'blue', 'yellow')\n",
        "second_to_last_element = my_tuple[-2]\n",
        "print(\"The second-to-last element is:\", second_to_last_element)"
      ],
      "metadata": {
        "colab": {
          "base_uri": "https://localhost:8080/"
        },
        "id": "HFE9dm7qiCYY",
        "outputId": "ef48fa6f-2cc1-4f80-b717-b6a0c4da611a"
      },
      "execution_count": 13,
      "outputs": [
        {
          "output_type": "stream",
          "name": "stdout",
          "text": [
            "The second-to-last element is: blue\n"
          ]
        }
      ]
    },
    {
      "cell_type": "code",
      "source": [
        "# 13. Write a code to find the minimum number in the tuple (10, 20, 5, 15).\n",
        "\n",
        "my_tuple = (10, 20, 5, 15)\n",
        "minimum_number = min(my_tuple)\n",
        "print(\"The minimum number is:\", minimum_number)"
      ],
      "metadata": {
        "colab": {
          "base_uri": "https://localhost:8080/"
        },
        "id": "5HL5LZexiKio",
        "outputId": "9d464723-f29b-4810-f052-e201e6922c88"
      },
      "execution_count": 14,
      "outputs": [
        {
          "output_type": "stream",
          "name": "stdout",
          "text": [
            "The minimum number is: 5\n"
          ]
        }
      ]
    },
    {
      "cell_type": "code",
      "source": [
        "# 14. Write a code to find the index of the element \"cat\" in the tuple ('dog', 'cat', 'rabbit').\n",
        "\n",
        "my_tuple = ('dog', 'cat', 'rabbit')\n",
        "index_of_cat = my_tuple.index('cat')\n",
        "print(\"The index of 'cat' is:\", index_of_cat)"
      ],
      "metadata": {
        "colab": {
          "base_uri": "https://localhost:8080/"
        },
        "id": "iuz5FBb1iSxB",
        "outputId": "f1fa6810-e1cc-471d-835d-f5a1016103f8"
      },
      "execution_count": 15,
      "outputs": [
        {
          "output_type": "stream",
          "name": "stdout",
          "text": [
            "The index of 'cat' is: 1\n"
          ]
        }
      ]
    },
    {
      "cell_type": "code",
      "source": [
        "# 15. Write a code to create a tuple containing three different fruits and check if \"kiwi\" is in it.\n",
        "\n",
        "fruits_tuple = (\"apple\", \"banana\", \"mango\")\n",
        "is_kiwi_in_tuple = \"kiwi\" in fruits_tuple\n",
        "print(\"Is 'kiwi' in the tuple?\", is_kiwi_in_tuple)"
      ],
      "metadata": {
        "colab": {
          "base_uri": "https://localhost:8080/"
        },
        "id": "ShcDetVTidrC",
        "outputId": "3fe62e2a-ae34-4776-b2dc-30d51326f421"
      },
      "execution_count": 17,
      "outputs": [
        {
          "output_type": "stream",
          "name": "stdout",
          "text": [
            "Is 'kiwi' in the tuple? False\n"
          ]
        }
      ]
    },
    {
      "cell_type": "code",
      "source": [
        "# 16. Write a code to create a set with the elements 'a', 'b', 'c' and print it.\n",
        "\n",
        "my_set = {'a', 'b', 'c'}\n",
        "print(\"The set is:\", my_set)"
      ],
      "metadata": {
        "colab": {
          "base_uri": "https://localhost:8080/"
        },
        "id": "Pf0Fkpmdilly",
        "outputId": "a481aaae-8100-429a-831b-19fdad713d3e"
      },
      "execution_count": 19,
      "outputs": [
        {
          "output_type": "stream",
          "name": "stdout",
          "text": [
            "The set is: {'b', 'a', 'c'}\n"
          ]
        }
      ]
    },
    {
      "cell_type": "code",
      "source": [
        "# 17. Write a code to clear all elements from the set {1, 2, 3, 4, 5}.\n",
        "\n",
        "my_set = {1, 2, 3, 4, 5}\n",
        "my_set.clear()\n",
        "print(\"The set after clearing is:\", my_set)"
      ],
      "metadata": {
        "colab": {
          "base_uri": "https://localhost:8080/"
        },
        "id": "DZhAz4u5i0lE",
        "outputId": "7b9980f1-13fc-4080-fff1-2467f8a2962d"
      },
      "execution_count": 20,
      "outputs": [
        {
          "output_type": "stream",
          "name": "stdout",
          "text": [
            "The set after clearing is: set()\n"
          ]
        }
      ]
    },
    {
      "cell_type": "code",
      "source": [
        "# 18.  Write a code to remove the element 4 from the set {1, 2, 3, 4}.\n",
        "\n",
        "my_set = {1, 2, 3, 4}\n",
        "my_set.remove(4)\n",
        "print(\"The set after removing 4 is:\", my_set)"
      ],
      "metadata": {
        "colab": {
          "base_uri": "https://localhost:8080/"
        },
        "id": "4RSG2PU4i8Jt",
        "outputId": "70d83a79-038d-4e99-f6f3-90377532417d"
      },
      "execution_count": 21,
      "outputs": [
        {
          "output_type": "stream",
          "name": "stdout",
          "text": [
            "The set after removing 4 is: {1, 2, 3}\n"
          ]
        }
      ]
    },
    {
      "cell_type": "code",
      "source": [
        "# 19. Write a code to find the union of two sets {1, 2, 3} and {3, 4, 5}.\n",
        "\n",
        "set1 = {1, 2, 3}\n",
        "set2 = {3, 4, 5}\n",
        "union_set = set1.union(set2)\n",
        "print(\"The union of the sets is:\", union_set)"
      ],
      "metadata": {
        "colab": {
          "base_uri": "https://localhost:8080/"
        },
        "id": "hBWK-0oSjIE2",
        "outputId": "2c2b0b58-7834-46d2-82a6-9726d439cf63"
      },
      "execution_count": 22,
      "outputs": [
        {
          "output_type": "stream",
          "name": "stdout",
          "text": [
            "The union of the sets is: {1, 2, 3, 4, 5}\n"
          ]
        }
      ]
    },
    {
      "cell_type": "code",
      "source": [
        "# 20. Write a code to find the intersection of two sets {1, 2, 3} and {2, 3, 4}.\n",
        "\n",
        "set1 = {1, 2, 3}\n",
        "set2 = {2, 3, 4}\n",
        "intersection_set = set1.intersection(set2)\n",
        "print(\"The intersection of the sets is:\", intersection_set)"
      ],
      "metadata": {
        "colab": {
          "base_uri": "https://localhost:8080/"
        },
        "id": "A2x7rE-UjdDo",
        "outputId": "711cfb16-ca6f-4e9e-d108-63a1d3082f15"
      },
      "execution_count": 23,
      "outputs": [
        {
          "output_type": "stream",
          "name": "stdout",
          "text": [
            "The intersection of the sets is: {2, 3}\n"
          ]
        }
      ]
    },
    {
      "cell_type": "code",
      "source": [
        "# 21. Write a code to create a dictionary with the keys \"name\", \"age\", and \"city\", and print it.\n",
        "\n",
        "my_dict = {\n",
        "    \"name\": \"John\",\n",
        "    \"age\": 25,\n",
        "    \"city\": \"New York\"\n",
        "}\n",
        "print(\"The dictionary is:\", my_dict)"
      ],
      "metadata": {
        "colab": {
          "base_uri": "https://localhost:8080/"
        },
        "id": "jY9UDYnKjmG6",
        "outputId": "6e2d7d77-55a8-4545-b164-28ecd0d7546e"
      },
      "execution_count": 24,
      "outputs": [
        {
          "output_type": "stream",
          "name": "stdout",
          "text": [
            "The dictionary is: {'name': 'John', 'age': 25, 'city': 'New York'}\n"
          ]
        }
      ]
    },
    {
      "cell_type": "code",
      "source": [
        "# 22. Write a code to add a new key-value pair \"country\": \"USA\" to the dictionary {'name': 'John', 'age': 25}.\n",
        "\n",
        "my_dict = {'name': 'John', 'age': 25}\n",
        "my_dict['country'] = 'USA'\n",
        "print(\"The updated dictionary is:\", my_dict)"
      ],
      "metadata": {
        "colab": {
          "base_uri": "https://localhost:8080/"
        },
        "id": "5JITCWYMjs8B",
        "outputId": "5b493698-2726-42a9-9aba-e10a19610e42"
      },
      "execution_count": 25,
      "outputs": [
        {
          "output_type": "stream",
          "name": "stdout",
          "text": [
            "The updated dictionary is: {'name': 'John', 'age': 25, 'country': 'USA'}\n"
          ]
        }
      ]
    },
    {
      "cell_type": "code",
      "source": [
        "# 23. Write a code to access the value associated with the key \"name\" in the dictionary {'name': 'Alice', 'age': 30}.\n",
        "\n",
        "my_dict = {'name': 'Alice', 'age': 30}\n",
        "name_value = my_dict['name']\n",
        "print(\"The value associated with 'name' is:\", name_value)"
      ],
      "metadata": {
        "colab": {
          "base_uri": "https://localhost:8080/"
        },
        "id": "M8oN51Pjj4AD",
        "outputId": "5e563c05-8b83-40fe-dc51-a098e62c729d"
      },
      "execution_count": 26,
      "outputs": [
        {
          "output_type": "stream",
          "name": "stdout",
          "text": [
            "The value associated with 'name' is: Alice\n"
          ]
        }
      ]
    },
    {
      "cell_type": "code",
      "source": [
        "# 24. Write a code to remove the key \"age\" from the dictionary {'name': 'Bob', 'age': 22, 'city': 'New York'}.\n",
        "\n",
        "my_dict = {'name': 'Bob', 'age': 22, 'city': 'New York'}\n",
        "del my_dict['age']\n",
        "print(\"The dictionary after removing 'age' is:\", my_dict)"
      ],
      "metadata": {
        "colab": {
          "base_uri": "https://localhost:8080/"
        },
        "id": "QBLUzgfIj-2k",
        "outputId": "ce7f4fbe-639f-4347-f95f-fe6c82571ce7"
      },
      "execution_count": 27,
      "outputs": [
        {
          "output_type": "stream",
          "name": "stdout",
          "text": [
            "The dictionary after removing 'age' is: {'name': 'Bob', 'city': 'New York'}\n"
          ]
        }
      ]
    },
    {
      "cell_type": "code",
      "source": [
        "# 25. Write a code to check if the key \"city\" exists in the dictionary {'name': 'Alice', 'city': 'Paris'}.\n",
        "\n",
        "my_dict = {'name': 'Alice', 'city': 'Paris'}\n",
        "city_exists = 'city' in my_dict\n",
        "print(\"Does 'city' exist in the dictionary?\", city_exists)"
      ],
      "metadata": {
        "colab": {
          "base_uri": "https://localhost:8080/"
        },
        "id": "C_ph6kG2kJM0",
        "outputId": "48c4d69d-12bf-4af0-b2fd-6f0d474ad7e9"
      },
      "execution_count": 28,
      "outputs": [
        {
          "output_type": "stream",
          "name": "stdout",
          "text": [
            "Does 'city' exist in the dictionary? True\n"
          ]
        }
      ]
    },
    {
      "cell_type": "code",
      "source": [
        "# 26. Write a code to create a list, a tuple, and a dictionary, and print them all.\n",
        "\n",
        "my_list = [1, 2, 3]\n",
        "my_tuple = (4, 5, 6)\n",
        "my_dict = {'name': 'Bob', 'age': 22, 'city': 'New York'}\n",
        "\n",
        "print(\"List:\", my_list)\n",
        "print(\"Tuple:\", my_tuple)\n",
        "print(\"Dictionary:\", my_dict)"
      ],
      "metadata": {
        "colab": {
          "base_uri": "https://localhost:8080/"
        },
        "id": "2iSpqZ2zkPGF",
        "outputId": "25d9d33c-6cbd-46cb-b7e2-c185b7a7ad3b"
      },
      "execution_count": 32,
      "outputs": [
        {
          "output_type": "stream",
          "name": "stdout",
          "text": [
            "List: [1, 2, 3]\n",
            "Tuple: (4, 5, 6)\n",
            "Dictionary: {'name': 'Bob', 'age': 22, 'city': 'New York'}\n"
          ]
        }
      ]
    },
    {
      "cell_type": "code",
      "source": [
        "# 27. Write a code to create a list of 5 random numbers between 1 and 100, sort it in ascending order, and print the result.(replaced)\n",
        "\n",
        "import random\n",
        "\n",
        "random_numbers = [random.randint(1, 100) for _ in range(5)]\n",
        "random_numbers.sort()\n",
        "print(\"Sorted List:\", random_numbers)"
      ],
      "metadata": {
        "colab": {
          "base_uri": "https://localhost:8080/"
        },
        "id": "jQAxjFOPkZp-",
        "outputId": "59bb191a-49c1-449b-f642-ae8b0b3db8c1"
      },
      "execution_count": 33,
      "outputs": [
        {
          "output_type": "stream",
          "name": "stdout",
          "text": [
            "Sorted List: [9, 18, 34, 68, 89]\n"
          ]
        }
      ]
    },
    {
      "cell_type": "code",
      "source": [
        "# 28. Write a code to create a list with strings and print the element at the third index.\n",
        "\n",
        "my_list = [\"apple\", \"banana\", \"mango\", \"date\", \"elephant\"]\n",
        "third_element = my_list[2]\n",
        "print(\"The element at index 2 is:\", third_element)"
      ],
      "metadata": {
        "colab": {
          "base_uri": "https://localhost:8080/"
        },
        "id": "VyOUc7BLlT4k",
        "outputId": "0ede11a7-2598-490e-b2ca-b448fa37c85d"
      },
      "execution_count": 35,
      "outputs": [
        {
          "output_type": "stream",
          "name": "stdout",
          "text": [
            "The element at index 2 is: mango\n"
          ]
        }
      ]
    },
    {
      "cell_type": "code",
      "source": [
        "# 29. Write a code to combine two dictionaries into one and print the result.\n",
        "\n",
        "dict1 = {'a': 1, 'b': 2}\n",
        "dict2 = {'c': 3, 'd': 4}\n",
        "combined_dict = {**dict1, **dict2}\n",
        "print(\"Combined Dictionary:\", combined_dict)"
      ],
      "metadata": {
        "colab": {
          "base_uri": "https://localhost:8080/"
        },
        "id": "8J7_KBLelloO",
        "outputId": "d194d4f6-120d-4de5-a476-3c154392a9a5"
      },
      "execution_count": 36,
      "outputs": [
        {
          "output_type": "stream",
          "name": "stdout",
          "text": [
            "Combined Dictionary: {'a': 1, 'b': 2, 'c': 3, 'd': 4}\n"
          ]
        }
      ]
    },
    {
      "cell_type": "code",
      "source": [
        "# 30. Write a code to convert a list of strings into a set.\n",
        "\n",
        "my_list = [\"apple\", \"banana\", \"mango\", \"apple\", \"banana\"]\n",
        "my_set = set(my_list)\n",
        "print(\"Set from List:\", my_set)"
      ],
      "metadata": {
        "colab": {
          "base_uri": "https://localhost:8080/"
        },
        "id": "b5RtVv_B0gyu",
        "outputId": "d8bacf22-1ead-42e8-cab1-3f0d582dec96"
      },
      "execution_count": 37,
      "outputs": [
        {
          "output_type": "stream",
          "name": "stdout",
          "text": [
            "Set from List: {'apple', 'banana', 'mango'}\n"
          ]
        }
      ]
    }
  ]
}